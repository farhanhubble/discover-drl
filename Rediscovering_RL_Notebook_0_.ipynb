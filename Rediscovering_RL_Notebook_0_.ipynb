{
  "nbformat": 4,
  "nbformat_minor": 0,
  "metadata": {
    "colab": {
      "name": "Rediscovering RL- Notebook 0 .ipynb",
      "provenance": [],
      "collapsed_sections": [],
      "authorship_tag": "ABX9TyPOhRJBaJS54+EvxdN8yJcw",
      "include_colab_link": true
    },
    "kernelspec": {
      "name": "python3",
      "display_name": "Python 3"
    }
  },
  "cells": [
    {
      "cell_type": "markdown",
      "metadata": {
        "id": "view-in-github",
        "colab_type": "text"
      },
      "source": [
        "<a href=\"https://colab.research.google.com/github/farhanhubble/discover-drl/blob/master/Rediscovering_RL_Notebook_0_.ipynb\" target=\"_parent\"><img src=\"https://colab.research.google.com/assets/colab-badge.svg\" alt=\"Open In Colab\"/></a>"
      ]
    },
    {
      "cell_type": "code",
      "metadata": {
        "id": "KcMMYrax7MVv",
        "colab_type": "code",
        "colab": {}
      },
      "source": [
        "agent = '⚽'\n",
        "opponent = '👕'\n",
        "goal = '🥅'\n",
        "\n",
        "arena = [['⚽', ' ' , '👕', ' ' ],\n",
        "         [' ' , ' ' , ' ' , '👕'],\n",
        "         [' ' , '👕', ' ' , ' ' ],\n",
        "         [' ' , ' ' , ' ' , '👕'],\n",
        "         [' ' , '👕', ' ' , '🥅']]"
      ],
      "execution_count": null,
      "outputs": []
    },
    {
      "cell_type": "code",
      "metadata": {
        "id": "faVO8xdj7ZLA",
        "colab_type": "code",
        "colab": {}
      },
      "source": [
        "import numpy as np\n",
        "\n",
        "class Foolsball(object):\n",
        "\n",
        "  def __to_state__(self,row,col):\n",
        "    \"\"\"Convert from integer state to indices (row,col).\"\"\"\n",
        "    return row*self.n_cols + col\n",
        "\n",
        "  def __to_indices__(self, state):\n",
        "    \"\"\"Convert indices(row,col) to state (single integer).\"\"\"\n",
        "    row = state // self.n_cols\n",
        "    col = state % self.n_cols\n",
        "    return row,col\n",
        "\n",
        "  def __deserialize__(self,map:list,agent:str,opponent:str, goal:str):\n",
        "    \"\"\"Convrt a string representation of a map into a 2D numpy array\n",
        "    Param map: list of lists of strings representing the player, opponents and goal.\n",
        "    Param agent: string representing the agent on the map \n",
        "    Param opponent: string representing every instance of an opponent player\n",
        "    Param goal: string representing the location of the goal on the map\n",
        "    \"\"\"\n",
        "    ## Capture dimensions and map.\n",
        "    self.n_rows = len(map)\n",
        "    self.n_cols = len(map[0])\n",
        "    self.n_states = self.n_rows * self.n_cols \n",
        "    self.map = np.asarray(map)\n",
        "\n",
        "    ## Store string representations for printing the map, etc.\n",
        "    self.agent_repr = agent\n",
        "    self.opponent_repr  = opponent\n",
        "    self.goal_repr = goal\n",
        "\n",
        "    ## Find initial state, the desired goal state and the state of the opponents. \n",
        "    self.init_state = None\n",
        "    self.goal_state = None\n",
        "    self.opponents_states = []\n",
        "\n",
        "    for row in range(self.n_rows):\n",
        "      for col in range(self.n_cols):\n",
        "        if map[row][col] == agent:\n",
        "          # Store the initial state outside the map.\n",
        "          # This helps in quickly resetting the game to the initial state and\n",
        "          # also simplifies printing the map independent of the agent's state. \n",
        "          self.init_state = self.__to_state__(row,col)\n",
        "          self.map[row,col] = ' ' \n",
        "        \n",
        "        elif map[row][col] == opponent:\n",
        "          self.opponents_states.append(self.__to_state__(row,col))\n",
        "\n",
        "        elif map[row][col] == goal:\n",
        "          self.goal_state = self.__to_state__(row,col)\n",
        "\n",
        "    assert self.init_state is not None, print(f\"Map {map} does not specify an agent {agent} location\")\n",
        "    assert self.goal_state is not None,  print(f\"Map {map} does not specify a goal {goal} location\")\n",
        "    assert self.opponents_states,  print(f\"Map {map} does not specify any opponents {opponent} location\")\n",
        "\n",
        "    return self.init_state\n",
        "\n",
        "\n",
        "  def __get_next_state_on_action__(self,state,action):\n",
        "    \"\"\"Return next state based on current state and action.\"\"\"\n",
        "    row, col = self.__to_indices__(state)\n",
        "    action_to_index_delta = {'n':[-1,0], 'e':[0,+1], 'w':[0,-1], 's':[+1,0]}\n",
        "\n",
        "    row_delta, col_delta = action_to_index_delta[action]\n",
        "    new_row , new_col = row+row_delta, col+col_delta\n",
        "\n",
        "    ## Return current state if next state is invalid\n",
        "    ## The caller need to check for this\n",
        "    if not(0<=new_row<self.n_rows) or not(0<=new_col<self.n_cols):\n",
        "      return state  \n",
        "    \n",
        "    return self.__to_state__(new_row, new_col)\n",
        "\n",
        "\n",
        "  def __get_reward_for_transition__(self,state,next_state):\n",
        "    \"\"\" Return the reward based on the transition from current state to next state. \"\"\"\n",
        "    ## Transition rejected due to illegal action (move)\n",
        "    if next_state == self.state:\n",
        "      reward = self.rewards['outside']\n",
        "    \n",
        "    ## Goal!\n",
        "    elif next_state == self.goal_state:\n",
        "      reward = self.rewards['goal']\n",
        "    \n",
        "    ## Ran into opponent. \n",
        "    elif next_state in self.opponents_states:\n",
        "      reward = self.rewards['opponent']\n",
        "\n",
        "    ## Made a safe and valid move.   \n",
        "    else:\n",
        "      reward = self.rewards['unmarked']\n",
        "\n",
        "    return reward\n",
        "\n",
        "\n",
        "  def __is_terminal_state__(self, state):\n",
        "    return (state == self.goal_state) or (state in self.opponents_states) \n",
        "\n",
        "  \n",
        "  def __init__(self,map,agent,opponent,goal):\n",
        "    \"\"\"Spawn the world, create variables to track state and actions.\"\"\"\n",
        "    # We just need to track the location of the agent (the ball)\n",
        "    # Everything else is static and so a potential algorithm doesn't \n",
        "    # have to look at it. The `done` flag terminal states.\n",
        "    self.state = self.__deserialize__(map,agent,opponent,goal)\n",
        "    self.done = False\n",
        "    self.actions = ['n','e','w','s']\n",
        "\n",
        "    # Build a trnasition table (dict of dicts), mapping every (state,action)\n",
        "    # pair to the next state. This defines the one-step dynamics of the \n",
        "    # environment \n",
        "    self.transitions = self.__install_transition_table__()\n",
        "\n",
        "\n",
        "    # Set up the rewards\n",
        "    self.default_rewards = {'unmarked':-1, 'opponent':-5, 'outside':-1, 'goal':+5}\n",
        "    self.set_rewards(self.default_rewards)\n",
        "\n",
        "  \n",
        "  def __install_transition_table__(self):\n",
        "    ## Create a dictionary of dictionaries that can map every (state,action) pair\n",
        "    ## to the corresponding next state.\n",
        "    transitions = {s:{a:None for a in self.actions} for s in range(self.n_states)}\n",
        "    for s in range(self.n_states):\n",
        "      for a in self.actions:\n",
        "        transitions[s][a] = self.__get_next_state_on_action__(s,a)\n",
        "\n",
        "\n",
        "  def reset(self):\n",
        "    \"\"\"Reset the environment to its initial state.\"\"\"\n",
        "    # There's really just two things we need to reset: the state, which should\n",
        "    # be reset to the initial state, and the `done` flag which should be \n",
        "    # cleared to signal that we are not in a terminal state anymore, even if we \n",
        "    # were earlier. \n",
        "    self.state = self.init_state\n",
        "    self.done  = False\n",
        "    return self.state\n",
        "\n",
        "  \n",
        "  def set_rewards(self,rewards):\n",
        "    if not self.state == self.init_state:\n",
        "      print('Warning: Setting reward while not in initial state! You may want to call reset() first.')\n",
        "    for key in self.default_rewards:\n",
        "      assert key in rewards, print(f'Key {key} missing from reward.') \n",
        "    self.rewards = rewards\n",
        "\n",
        "  \n",
        "  def step(self,action):\n",
        "    \"\"\"Simulate state transition based on current state and action received.\"\"\"\n",
        "    assert not self.done, \\\n",
        "    print(f'You cannot call step() in a terminal state({self.state}). Check the \"done\" flag before calling step() to avoid this.')\n",
        "    next_state = self.__get_next_state_on_action__(self.state, action)\n",
        "\n",
        "    reward = self.__get_reward_for_transition__(self.state, next_state)\n",
        "    done = self.__is_terminal_state__(next_state)\n",
        "\n",
        "    self.state, self.done = next_state, done\n",
        "    \n",
        "    return next_state, reward, done\n",
        "\n",
        "\n",
        "  def render(self):\n",
        "    \"\"\"Pretty-print the environment and agent.\"\"\"\n",
        "    ## Create a copy of the map and change data type to accomodate\n",
        "    ## 3-character strings\n",
        "    _map = np.array(self.map, dtype='<U3')\n",
        "\n",
        "    ## Mark unoccupied positions with special symbol.\n",
        "    ## And add extra spacing to align all columns.\n",
        "    for row in range(_map.shape[0]):\n",
        "      for col in range(_map.shape[1]):\n",
        "        if _map[row,col] == ' ':\n",
        "          _map[row,col] = ' + '\n",
        "        \n",
        "        elif _map[row,col] == self.opponent_repr: \n",
        "          _map[row,col] =  self.opponent_repr + ' '\n",
        "        \n",
        "        elif _map[row,col] == self.goal_repr:\n",
        "          _map[row,col] = ' ' + self.goal_repr + ' '\n",
        "      \n",
        "    ## If current state overlaps with the goal state or one of the opponents'\n",
        "    ## states, susbstitute a distinct marker.\n",
        "    if self.state == self.goal_state:\n",
        "      r,c = self.__to_indices__(self.state)\n",
        "      _map[r,c] = ' 🏁 '\n",
        "    elif self.state in self.opponents_states:\n",
        "      r,c = self.__to_indices__(self.state)\n",
        "      _map[r,c] = ' ❗ '\n",
        "    else:\n",
        "      r,c = self.__to_indices__(self.state)\n",
        "      _map[r,c] = ' ' + self.agent_repr\n",
        "    \n",
        "    for row in range(_map.shape[0]):\n",
        "      for col in range(_map.shape[1]):\n",
        "        print(f' {_map[row,col]} ',end=\"\")\n",
        "      print('\\n') \n",
        "    \n",
        "    print()\n",
        "\n"
      ],
      "execution_count": null,
      "outputs": []
    },
    {
      "cell_type": "code",
      "metadata": {
        "id": "hK5uEU1QGddR",
        "colab_type": "code",
        "colab": {}
      },
      "source": [
        "foolsball = Foolsball(arena, agent, opponent, goal)"
      ],
      "execution_count": null,
      "outputs": []
    },
    {
      "cell_type": "code",
      "metadata": {
        "id": "5nn8RNR1NDZK",
        "colab_type": "code",
        "colab": {}
      },
      "source": [
        "foolsball.render()"
      ],
      "execution_count": null,
      "outputs": []
    },
    {
      "cell_type": "code",
      "metadata": {
        "id": "B4w1HCRHwG60",
        "colab_type": "code",
        "colab": {}
      },
      "source": [
        "## Move: n,s,e,w\n",
        "## Reset: r\n",
        "## Exit: x\n",
        "while True:\n",
        "  try:\n",
        "    act = input('>>')\n",
        "\n",
        "    if act in foolsball.actions:\n",
        "      print(foolsball.step(act))\n",
        "      print()\n",
        "      foolsball.render()\n",
        "    elif act == 'r':\n",
        "      print(foolsball.reset())\n",
        "      print()\n",
        "      foolsball.render()\n",
        "    elif act == 'x':\n",
        "      break\n",
        "    else:\n",
        "      print(f'Invalid input:{act}')\n",
        "  except Exception as e:\n",
        "    print(e)"
      ],
      "execution_count": null,
      "outputs": []
    },
    {
      "cell_type": "code",
      "metadata": {
        "id": "tyzJFjD5FRov",
        "colab_type": "code",
        "colab": {}
      },
      "source": [
        "## Reward and return\n",
        "path1 = ['e','s','e','s','s','s','e']\n",
        "path2 = ['s','e','e','s','s','s','e']\n",
        "path3 = ['s','s','s','e','e','s','e']\n",
        "path4 = ['s','s','s','s','n','e','e','s','e']"
      ],
      "execution_count": null,
      "outputs": []
    },
    {
      "cell_type": "code",
      "metadata": {
        "id": "fJqLJA8jQCyk",
        "colab_type": "code",
        "colab": {}
      },
      "source": [
        "def get_return(path):\n",
        "  foolsball.reset()\n",
        "  foolsball.render()\n",
        "  _return_ = 0\n",
        "  for act in path: \n",
        "    next_state, reward, done = foolsball.step(act)\n",
        "    foolsball.render()\n",
        "    _return_ += reward\n",
        "    \n",
        "    if done:\n",
        "      break\n",
        "    \n",
        "  print(f'Return (accumulated reward): {_return_}')"
      ],
      "execution_count": null,
      "outputs": []
    },
    {
      "cell_type": "code",
      "metadata": {
        "id": "GyqzhRJeR3eL",
        "colab_type": "code",
        "colab": {}
      },
      "source": [
        "get_return(path1)"
      ],
      "execution_count": null,
      "outputs": []
    },
    {
      "cell_type": "code",
      "metadata": {
        "id": "5kGOePDNR7vz",
        "colab_type": "code",
        "colab": {}
      },
      "source": [
        "get_return(path2)"
      ],
      "execution_count": null,
      "outputs": []
    },
    {
      "cell_type": "code",
      "metadata": {
        "id": "ZyqLBXy0Sncw",
        "colab_type": "code",
        "colab": {}
      },
      "source": [
        "get_return(path3)"
      ],
      "execution_count": null,
      "outputs": []
    },
    {
      "cell_type": "code",
      "metadata": {
        "id": "jFJS37teSpQe",
        "colab_type": "code",
        "colab": {}
      },
      "source": [
        "get_return(path4)"
      ],
      "execution_count": null,
      "outputs": []
    },
    {
      "cell_type": "code",
      "metadata": {
        "id": "EdzQu5qmStXR",
        "colab_type": "code",
        "colab": {}
      },
      "source": [
        "## Different reward structure\n",
        "foolsball.set_rewards({'unmarked':0, 'opponent':-5, 'outside':-1, 'goal':+5})"
      ],
      "execution_count": null,
      "outputs": []
    },
    {
      "cell_type": "code",
      "metadata": {
        "id": "MXTnL0IPVO1D",
        "colab_type": "code",
        "colab": {}
      },
      "source": [
        "get_return(path1)"
      ],
      "execution_count": null,
      "outputs": []
    },
    {
      "cell_type": "code",
      "metadata": {
        "id": "2RdLqt9FVcCp",
        "colab_type": "code",
        "colab": {}
      },
      "source": [
        "get_return(path4)"
      ],
      "execution_count": null,
      "outputs": []
    },
    {
      "cell_type": "code",
      "metadata": {
        "id": "csaEvig4WuCO",
        "colab_type": "code",
        "colab": {}
      },
      "source": [
        "def get_discounted_return(path, gamma=0):\n",
        "  foolsball.reset()\n",
        "  foolsball.render()\n",
        "  _return_ = 0\n",
        "  discount_coeff = 1\n",
        "  for act in path: \n",
        "    next_state, reward, done = foolsball.step(act)\n",
        "    foolsball.render()\n",
        "    _return_ += discount_coeff*reward\n",
        "    discount_coeff *= gamma    \n",
        "    if done:\n",
        "      break\n",
        "    \n",
        "  print(f'Return (accumulated reward): {_return_}')"
      ],
      "execution_count": null,
      "outputs": []
    },
    {
      "cell_type": "code",
      "metadata": {
        "id": "nBuFLEMLEUbr",
        "colab_type": "code",
        "colab": {}
      },
      "source": [
        "HYPER_PARAMS = {'gamma':0.9}"
      ],
      "execution_count": null,
      "outputs": []
    },
    {
      "cell_type": "code",
      "metadata": {
        "id": "StLUFUgjW_cz",
        "colab_type": "code",
        "colab": {}
      },
      "source": [
        "get_discounted_return(path1, HYPER_PARAMS['gamma'])"
      ],
      "execution_count": null,
      "outputs": []
    },
    {
      "cell_type": "code",
      "metadata": {
        "id": "GtaApbodXVgp",
        "colab_type": "code",
        "colab": {}
      },
      "source": [
        "get_discounted_return(path4, HYPER_PARAMS['gamma'])"
      ],
      "execution_count": null,
      "outputs": []
    },
    {
      "cell_type": "code",
      "metadata": {
        "id": "1Un8MRsjdTbu",
        "colab_type": "code",
        "colab": {}
      },
      "source": [
        "## Highest return = max(return_path1, return_path2)"
      ],
      "execution_count": null,
      "outputs": []
    },
    {
      "cell_type": "code",
      "metadata": {
        "id": "0saofKG-Xf_Y",
        "colab_type": "code",
        "colab": {}
      },
      "source": [
        "## Selecting a path is making a sequence of decisions.\n",
        "## Enumerating all paths is a catastrophic combinatorial explosion.\n",
        "## The trick is to calculate the action with the highest **return** for every state."
      ],
      "execution_count": null,
      "outputs": []
    },
    {
      "cell_type": "code",
      "metadata": {
        "id": "jNH54KMKpvua",
        "colab_type": "code",
        "colab": {}
      },
      "source": [
        "import pandas as pd\n",
        "REWARDS_TBL = pd.DataFrame.from_dict({s:{a:None for a in foolsball.actions} for s in range(foolsball.n_states)}, orient='index')"
      ],
      "execution_count": null,
      "outputs": []
    },
    {
      "cell_type": "code",
      "metadata": {
        "id": "yascBBM5uLwC",
        "colab_type": "code",
        "colab": {}
      },
      "source": [
        "REWARDS_TBL"
      ],
      "execution_count": null,
      "outputs": []
    },
    {
      "cell_type": "code",
      "metadata": {
        "id": "BJRlz7nBuQxd",
        "colab_type": "code",
        "colab": {}
      },
      "source": [
        "for state in REWARDS_TBL.index:\n",
        "  if not foolsball.__is_terminal_state__(state):\n",
        "    for action in REWARDS_TBL.columns:\n",
        "      next_state = foolsball.__get_next_state_on_action__(state,action)\n",
        "      REWARDS_TBL.loc[state, action] = foolsball.__get_reward_for_transition__(state, next_state)"
      ],
      "execution_count": null,
      "outputs": []
    },
    {
      "cell_type": "code",
      "metadata": {
        "id": "5u-rbqyavKWu",
        "colab_type": "code",
        "colab": {}
      },
      "source": [
        "terminal_states = foolsball.opponents_states+[foolsball.goal_state]\n",
        "print(terminal_states)\n",
        "REWARDS_TBL"
      ],
      "execution_count": null,
      "outputs": []
    },
    {
      "cell_type": "code",
      "metadata": {
        "id": "BiWIpBIj0sql",
        "colab_type": "code",
        "colab": {}
      },
      "source": [
        "RETURNS_TBL = pd.DataFrame.from_dict({s:{a:None for a in foolsball.actions} for s in range(foolsball.n_states)}, orient='index')"
      ],
      "execution_count": null,
      "outputs": []
    },
    {
      "cell_type": "code",
      "metadata": {
        "id": "cGFzW7Xb886q",
        "colab_type": "code",
        "colab": {}
      },
      "source": [
        "RETURNS_TBL"
      ],
      "execution_count": null,
      "outputs": []
    },
    {
      "cell_type": "code",
      "metadata": {
        "id": "IKCqzD9_8-E7",
        "colab_type": "code",
        "colab": {}
      },
      "source": [
        "RETURNS_TBL.loc[terminal_states]"
      ],
      "execution_count": null,
      "outputs": []
    },
    {
      "cell_type": "code",
      "metadata": {
        "id": "gVay2Rer9eQI",
        "colab_type": "code",
        "colab": {}
      },
      "source": [
        "RETURNS_TBL.loc[terminal_states] = 0"
      ],
      "execution_count": null,
      "outputs": []
    },
    {
      "cell_type": "code",
      "metadata": {
        "id": "VsQpmpVk-zPa",
        "colab_type": "code",
        "colab": {}
      },
      "source": [
        "RETURNS_TBL"
      ],
      "execution_count": null,
      "outputs": []
    },
    {
      "cell_type": "code",
      "metadata": {
        "id": "Ft8yVJdJWd_W",
        "colab_type": "code",
        "colab": {}
      },
      "source": [
        "def make_returns_table(terminal_states):\n",
        "  table = pd.DataFrame.from_dict({s:{a:None for a in foolsball.actions} for s in range(foolsball.n_states)}, orient='index')\n",
        "  table.loc[terminal_states] = 0\n",
        "  return table"
      ],
      "execution_count": null,
      "outputs": []
    },
    {
      "cell_type": "code",
      "metadata": {
        "id": "CZKZKPpYM8FD",
        "colab_type": "code",
        "colab": {}
      },
      "source": [
        "def fill_returns_table_v0(table,state,debug=False): \n",
        "  for action in table.columns:\n",
        "    if table.loc[state][action] is None:\n",
        "      next_state = foolsball.__get_next_state_on_action__(state, action)\n",
        "      reward = foolsball.__get_reward_for_transition__(state, next_state)\n",
        "\n",
        "      if debug:\n",
        "        print(f'Trying to fill ({state},{action},{next_state})')\n",
        "      \n",
        "      fill_returns_table_v0(table, next_state, debug) # <= Earth shaking problem here!!! 😱😱😱\n",
        "      table.loc[state][action]  = reward + HYPER_PARAMS['gamma'] * table.loc[next_state].max()\n",
        "    \n",
        "    else:\n",
        "      if debug:\n",
        "        print((state,action),f'already has a RETURN {table.loc[state][action]}')\n",
        "  "
      ],
      "execution_count": null,
      "outputs": []
    },
    {
      "cell_type": "code",
      "metadata": {
        "id": "xrWAG02iNMkJ",
        "colab_type": "code",
        "colab": {}
      },
      "source": [
        "table = make_returns_table(terminal_states)\n",
        "fill_returns_table_v0(table,state=0)"
      ],
      "execution_count": null,
      "outputs": []
    },
    {
      "cell_type": "code",
      "metadata": {
        "id": "mFbLxTZ0Gy64",
        "colab_type": "code",
        "colab": {}
      },
      "source": [
        "def fill_returns_table_v1(table,state,debug=False):\n",
        "  for action in table.columns:\n",
        "    if table.loc[state][action] is None:\n",
        "      next_state = foolsball.__get_next_state_on_action__(state, action)\n",
        "      reward = foolsball.__get_reward_for_transition__(state, next_state)\n",
        "      \n",
        "      if debug:\n",
        "        print(f'Trying to fill ({state},{action},{next_state})')\n",
        "      \n",
        "      if next_state == state:\n",
        "        table.loc[state][action] = -np.inf # <= No self recursion\n",
        "      else:\n",
        "        fill_returns_table_v1(table,next_state,debug)\n",
        "        table.loc[state][action]  = reward + HYPER_PARAMS['gamma'] * table.loc[next_state].max()\n",
        "    else:\n",
        "      if debug:\n",
        "        print((state,action),f'already has a RETURN {table.loc[state][action]}')"
      ],
      "execution_count": null,
      "outputs": []
    },
    {
      "cell_type": "code",
      "metadata": {
        "id": "U1AXgzoQInII",
        "colab_type": "code",
        "colab": {}
      },
      "source": [
        "table = make_returns_table(terminal_states)\n",
        "fill_returns_table_v1(table, state=0, debug=False)"
      ],
      "execution_count": null,
      "outputs": []
    },
    {
      "cell_type": "code",
      "metadata": {
        "id": "EbpZkdIwJTq1",
        "colab_type": "code",
        "colab": {}
      },
      "source": [
        "def fill_returns_table_v2(table,state, debug=False):\n",
        "  for action in table.columns:\n",
        "    if table.loc[state][action] is None:\n",
        "      next_state = foolsball.__get_next_state_on_action__(state, action)\n",
        "      reward = foolsball.__get_reward_for_transition__(state, next_state)\n",
        "      \n",
        "      if debug:\n",
        "        print(f'Trying to fill ({state},{action},{next_state})')\n",
        "      \n",
        "      if next_state == state:\n",
        "        table.loc[state][action] = -np.inf # <= No self recursion\n",
        "      \n",
        "      elif not table.loc[next_state].isna().any(): # <= No recursion beyond immediate neighbor!\n",
        "        table.loc[state][action]  = reward + HYPER_PARAMS['gamma'] * table.loc[next_state].max()\n",
        "    \n",
        "    else:\n",
        "      if debug:\n",
        "        print((state,action),f'already has a RETURN {table.loc[state][action]}')"
      ],
      "execution_count": null,
      "outputs": []
    },
    {
      "cell_type": "code",
      "metadata": {
        "id": "Mm49G7-LVq83",
        "colab_type": "code",
        "colab": {}
      },
      "source": [
        "table = make_returns_table(terminal_states)"
      ],
      "execution_count": null,
      "outputs": []
    },
    {
      "cell_type": "code",
      "metadata": {
        "id": "v1dniXqKZRIq",
        "colab_type": "code",
        "colab": {}
      },
      "source": [
        "fill_returns_table_v2(table,state=0)"
      ],
      "execution_count": null,
      "outputs": []
    },
    {
      "cell_type": "code",
      "metadata": {
        "id": "YDThbMqxZYrl",
        "colab_type": "code",
        "colab": {}
      },
      "source": [
        "table"
      ],
      "execution_count": null,
      "outputs": []
    },
    {
      "cell_type": "code",
      "metadata": {
        "id": "p4J8aE8qZaPR",
        "colab_type": "code",
        "colab": {}
      },
      "source": [
        "fill_returns_table_using_v2(table,state=1)"
      ],
      "execution_count": null,
      "outputs": []
    },
    {
      "cell_type": "code",
      "metadata": {
        "id": "vcpD53bxi4js",
        "colab_type": "code",
        "colab": {}
      },
      "source": [
        "table"
      ],
      "execution_count": null,
      "outputs": []
    },
    {
      "cell_type": "code",
      "metadata": {
        "id": "wvzzuhegi5aT",
        "colab_type": "code",
        "colab": {}
      },
      "source": [
        "fill_returns_table_using_v2(table,state=3)"
      ],
      "execution_count": null,
      "outputs": []
    },
    {
      "cell_type": "code",
      "metadata": {
        "id": "4HkIB9Pzj7Ra",
        "colab_type": "code",
        "colab": {}
      },
      "source": [
        "table"
      ],
      "execution_count": null,
      "outputs": []
    },
    {
      "cell_type": "code",
      "metadata": {
        "id": "ZBT7-eE-j8ja",
        "colab_type": "code",
        "colab": {}
      },
      "source": [
        "for s in range(4,19):\n",
        "  fill_returns_table_v2(table,state=s)"
      ],
      "execution_count": null,
      "outputs": []
    },
    {
      "cell_type": "code",
      "metadata": {
        "id": "HfjVh9OAkOrt",
        "colab_type": "code",
        "colab": {}
      },
      "source": [
        "table"
      ],
      "execution_count": null,
      "outputs": []
    },
    {
      "cell_type": "code",
      "metadata": {
        "id": "ierdKTiOklYH",
        "colab_type": "code",
        "colab": {}
      },
      "source": [
        "table.isna().sum()"
      ],
      "execution_count": null,
      "outputs": []
    },
    {
      "cell_type": "code",
      "metadata": {
        "id": "LwRKvA9rkRBe",
        "colab_type": "code",
        "colab": {}
      },
      "source": [
        "for s in range(0,19):\n",
        "  fill_returns_table_v2(table,state=s)"
      ],
      "execution_count": null,
      "outputs": []
    },
    {
      "cell_type": "code",
      "metadata": {
        "id": "spKnLucvkhOi",
        "colab_type": "code",
        "colab": {}
      },
      "source": [
        "table"
      ],
      "execution_count": null,
      "outputs": []
    },
    {
      "cell_type": "code",
      "metadata": {
        "id": "kaO1U52hkiUb",
        "colab_type": "code",
        "colab": {}
      },
      "source": [
        "table.isna().sum()"
      ],
      "execution_count": null,
      "outputs": []
    },
    {
      "cell_type": "code",
      "metadata": {
        "id": "mCi6KuKAkpvP",
        "colab_type": "code",
        "colab": {}
      },
      "source": [
        "for s in range(0,19):\n",
        "  fill_returns_table_v2(table,state=s)"
      ],
      "execution_count": null,
      "outputs": []
    },
    {
      "cell_type": "code",
      "metadata": {
        "id": "AZx5QB-slAHK",
        "colab_type": "code",
        "colab": {}
      },
      "source": [
        "table"
      ],
      "execution_count": null,
      "outputs": []
    },
    {
      "cell_type": "code",
      "metadata": {
        "id": "gB4i_CZLlBci",
        "colab_type": "code",
        "colab": {}
      },
      "source": [
        "table.isna().sum()"
      ],
      "execution_count": null,
      "outputs": []
    },
    {
      "cell_type": "markdown",
      "metadata": {
        "id": "ad0G1-3_-pw0",
        "colab_type": "text"
      },
      "source": [
        "## Estimating returns through simulation\n",
        "- A.k.a Monte Carlo sampling\n",
        "- No more cheating by peeping into the environment (private APIs)"
      ]
    },
    {
      "cell_type": "code",
      "metadata": {
        "id": "Ij_84xHhlFZj",
        "colab_type": "code",
        "colab": {}
      },
      "source": [
        "def collect_random_episode():\n",
        "  state = foolsball.reset()\n",
        "  done = False\n",
        "  episode = []\n",
        "\n",
        "  while not done:\n",
        "    action = np.random.choice(foolsball.actions)\n",
        "    next_state, reward, done = foolsball.step(action)\n",
        "    episode.append([state, action, reward])\n",
        "    state = next_state\n",
        "  \n",
        "  return episode"
      ],
      "execution_count": null,
      "outputs": []
    },
    {
      "cell_type": "code",
      "metadata": {
        "id": "TK5xQ6iwvMU_",
        "colab_type": "code",
        "colab": {}
      },
      "source": [
        "ep = collect_random_episode()\n",
        "foolsball.render()\n",
        "print(ep)"
      ],
      "execution_count": null,
      "outputs": []
    },
    {
      "cell_type": "code",
      "metadata": {
        "id": "ugaOUXuEjNuT",
        "colab_type": "code",
        "colab": {}
      },
      "source": [
        "list(zip(*ep))"
      ],
      "execution_count": null,
      "outputs": []
    },
    {
      "cell_type": "code",
      "metadata": {
        "id": "T_r_tTfSwEIi",
        "colab_type": "code",
        "colab": {}
      },
      "source": [
        "def discounted_return_from_episode(ep, gamma=0):\n",
        "  states, actions, rewards = list(zip(*ep))\n",
        "  rewards = np.asarray(rewards)\n",
        "  discount_coeffs = np.asarray([np.power(gamma,p) for p in range(len(rewards))])\n",
        "  \n",
        "  l = len(rewards)\n",
        "  discounted_returns = [np.dot(rewards[i:],discount_coeffs[:l-i]) for i in range(l)]\n",
        "\n",
        "  return (states, actions, discounted_returns)\n"
      ],
      "execution_count": null,
      "outputs": []
    },
    {
      "cell_type": "code",
      "metadata": {
        "id": "sp9dvrQjl_vA",
        "colab_type": "code",
        "colab": {}
      },
      "source": [
        "discounted_return_from_episode(ep, gamma=HYPER_PARAMS['gamma'])"
      ],
      "execution_count": null,
      "outputs": []
    },
    {
      "cell_type": "code",
      "metadata": {
        "id": "B1R--MLHmalx",
        "colab_type": "code",
        "colab": {}
      },
      "source": [
        "## Estimate returns by simulating lot of episodes.\n",
        "\n",
        "# Create empty returns table \n",
        "ESTIMATED_RETURNS_TBL = pd.DataFrame.from_dict({s:{a:0 for a in foolsball.actions} for s in range(foolsball.n_states)}, orient='index')\n",
        "VISITS_COUNTS_TBL = pd.DataFrame.from_dict({s:{a:0 for a in foolsball.actions} for s in range(foolsball.n_states)}, orient='index')\n",
        "\n",
        "n_episodes = 100  #Try 100, 500, 2000\n",
        "\n",
        "for i in range(n_episodes):\n",
        "  episode_i = collect_random_episode()\n",
        "  states, actions, discounted_returns = discounted_return_from_episode(episode_i, gamma=HYPER_PARAMS['gamma'])\n",
        "\n",
        "  for s,a,ret in zip(states, actions, discounted_returns):\n",
        "    ESTIMATED_RETURNS_TBL.loc[s,a] += ret\n",
        "    VISITS_COUNTS_TBL.loc[s,a] += 1\n",
        "  "
      ],
      "execution_count": null,
      "outputs": []
    },
    {
      "cell_type": "code",
      "metadata": {
        "id": "GunNiOL6pC7L",
        "colab_type": "code",
        "colab": {}
      },
      "source": [
        "estimated_returns = ESTIMATED_RETURNS_TBL.div(VISITS_COUNTS_TBL+1) ## Averaging returns. Avoid dividing by zeros.\n",
        "estimated_returns"
      ],
      "execution_count": null,
      "outputs": []
    },
    {
      "cell_type": "code",
      "metadata": {
        "id": "dtFqZ61zsoUb",
        "colab_type": "code",
        "colab": {}
      },
      "source": [
        "### Policies!!"
      ],
      "execution_count": null,
      "outputs": []
    },
    {
      "cell_type": "code",
      "metadata": {
        "id": "YQffj3kGwgv9",
        "colab_type": "code",
        "colab": {}
      },
      "source": [
        "def greedy_policy_from_returns_tbl(table):\n",
        "  policy = {s:None for s in table.index }\n",
        "\n",
        "  for state in table.index:\n",
        "    if state not in terminal_states:\n",
        "      greedy_action_index = table.loc[state].argmax()\n",
        "      greedy_action = table.columns[greedy_action_index]\n",
        "      policy[state] = greedy_action\n",
        "\n",
        "  return policy"
      ],
      "execution_count": null,
      "outputs": []
    },
    {
      "cell_type": "code",
      "metadata": {
        "id": "NOxDZGq9yvky",
        "colab_type": "code",
        "colab": {}
      },
      "source": [
        "policy0 = greedy_policy_from_returns_tbl(estimated_returns)"
      ],
      "execution_count": null,
      "outputs": []
    },
    {
      "cell_type": "code",
      "metadata": {
        "id": "411GuzIjy0Ai",
        "colab_type": "code",
        "colab": {}
      },
      "source": [
        "policy0"
      ],
      "execution_count": null,
      "outputs": []
    },
    {
      "cell_type": "code",
      "metadata": {
        "id": "HZSGr8Kgy1dw",
        "colab_type": "code",
        "colab": {}
      },
      "source": [
        "def pretty_print_policy(policy):\n",
        "  direction_repr = {'n':' 🡑 ', 'e':' 🡒 ', 'w':' 🡐 ', 's':' 🡓 ', None:' ⬤ '}\n",
        "\n",
        "  for row in range(foolsball.n_rows):\n",
        "    for col in range(foolsball.n_cols):\n",
        "      state = row * foolsball.n_cols + col\n",
        "      print(direction_repr[policy[state]],end='')\n",
        "    print()"
      ],
      "execution_count": null,
      "outputs": []
    },
    {
      "cell_type": "code",
      "metadata": {
        "id": "xQNvjMAG1fEZ",
        "colab_type": "code",
        "colab": {}
      },
      "source": [
        "pretty_print_policy(policy0)"
      ],
      "execution_count": null,
      "outputs": []
    },
    {
      "cell_type": "markdown",
      "metadata": {
        "id": "EdNNAuZd1m6m",
        "colab_type": "text"
      },
      "source": [
        "**Q:** What's the problem with this approach?\n",
        "\n",
        "**A:** We are improving our estimate of the returns but we are not using the estimates when genrating new samples. "
      ]
    },
    {
      "cell_type": "code",
      "metadata": {
        "id": "2hRlcQfh5TA0",
        "colab_type": "code",
        "colab": {}
      },
      "source": [
        "def collect_episode_from_policy(policy, max_ep_len=20):\n",
        "  state = foolsball.reset()\n",
        "  done = False\n",
        "  episode = []\n",
        "\n",
        "  for _ in range(max_ep_len):\n",
        "    if done:\n",
        "      break\n",
        "\n",
        "    action = policy[state]\n",
        "    next_state, reward, done = foolsball.step(action)\n",
        "    episode.append([state, action, reward])\n",
        "    state = next_state\n",
        "  \n",
        "  return episode"
      ],
      "execution_count": null,
      "outputs": []
    },
    {
      "cell_type": "code",
      "metadata": {
        "id": "aGqtzDcTAdEf",
        "colab_type": "code",
        "colab": {}
      },
      "source": [
        "policy = greedy_policy_from_returns_tbl(estimated_returns)\n",
        "print(policy)\n",
        "\n",
        "ep = collect_episode_from_policy(policy)\n",
        "print(ep)"
      ],
      "execution_count": null,
      "outputs": []
    },
    {
      "cell_type": "code",
      "metadata": {
        "id": "VFcvuR15HoY_",
        "colab_type": "code",
        "colab": {}
      },
      "source": [
        "ESTIMATED_RETURNS_TBL = pd.DataFrame.from_dict({s:{a:0 for a in foolsball.actions} for s in range(foolsball.n_states)}, orient='index')\n",
        "VISITS_COUNTS_TBL = pd.DataFrame.from_dict({s:{a:0 for a in foolsball.actions} for s in range(foolsball.n_states)}, orient='index')\n",
        "\n",
        "n_episodes = 100\n",
        "\n",
        "for i in range(n_episodes):\n",
        "  estimated_returns = ESTIMATED_RETURNS_TBL.div(VISITS_COUNTS_TBL+1)\n",
        "  policy_p = greedy_policy_from_returns_tbl(estimated_returns)\n",
        "  \n",
        "  episode_i = collect_episode_from_policy(policy_p)\n",
        "  #print(episode_i)\n",
        "  states, actions, discounted_returns = discounted_return_from_episode(episode_i, gamma=HYPER_PARAMS['gamma'])\n",
        "\n",
        "  for s,a,ret in zip(states, actions, discounted_returns):\n",
        "    ESTIMATED_RETURNS_TBL.loc[s,a] += ret\n",
        "    VISITS_COUNTS_TBL.loc[s,a] += 1"
      ],
      "execution_count": null,
      "outputs": []
    },
    {
      "cell_type": "code",
      "metadata": {
        "id": "zV1xJUcdHvcy",
        "colab_type": "code",
        "colab": {}
      },
      "source": [
        "estimated_returns = ESTIMATED_RETURNS_TBL.div(VISITS_COUNTS_TBL+1) ## Averaging returns. Avoid dividing by zeros.\n",
        "estimated_returns"
      ],
      "execution_count": null,
      "outputs": []
    },
    {
      "cell_type": "code",
      "metadata": {
        "id": "5XGAhe4SH0hw",
        "colab_type": "code",
        "colab": {}
      },
      "source": [
        "policy1 = greedy_policy_from_returns_tbl(estimated_returns)\n",
        "policy1"
      ],
      "execution_count": null,
      "outputs": []
    },
    {
      "cell_type": "code",
      "metadata": {
        "id": "BoldIPzhH5We",
        "colab_type": "code",
        "colab": {}
      },
      "source": [
        "pretty_print_policy(policy1)"
      ],
      "execution_count": null,
      "outputs": []
    },
    {
      "cell_type": "code",
      "metadata": {
        "id": "RDMy2xAcBDZE",
        "colab_type": "code",
        "colab": {}
      },
      "source": [
        "ESTIMATED_RETURNS_TBL = pd.DataFrame.from_dict({s:{a:0 for a in foolsball.actions} for s in range(foolsball.n_states)}, orient='index')\n",
        "VISITS_COUNTS_TBL = pd.DataFrame.from_dict({s:{a:0 for a in foolsball.actions} for s in range(foolsball.n_states)}, orient='index')\n",
        "\n",
        "n_episodes = 50\n",
        "  \n",
        "for i in range(n_episodes):\n",
        "  estimated_returns = ESTIMATED_RETURNS_TBL.div(VISITS_COUNTS_TBL+1) \n",
        "  policy_p = greedy_policy_from_returns_tbl(estimated_returns)\n",
        "\n",
        "  if i < 25:\n",
        "    episode_i = collect_random_episode()\n",
        "  else:\n",
        "    episode_i = collect_episode_from_policy(policy_p)\n",
        "  \n",
        "  print(episode_i)\n",
        "  states, actions, discounted_returns = discounted_return_from_episode(episode_i, gamma=HYPER_PARAMS['gamma'])\n",
        "\n",
        "  for s,a,ret in zip(states, actions, discounted_returns):\n",
        "    ESTIMATED_RETURNS_TBL.loc[s,a] += ret\n",
        "    VISITS_COUNTS_TBL.loc[s,a] += 1"
      ],
      "execution_count": null,
      "outputs": []
    },
    {
      "cell_type": "code",
      "metadata": {
        "id": "xJM0wX3CEzad",
        "colab_type": "code",
        "colab": {}
      },
      "source": [
        "estimated_returns = ESTIMATED_RETURNS_TBL.div(VISITS_COUNTS_TBL+1) ## Averaging returns. Avoid dividing by zeros.\n",
        "estimated_returns"
      ],
      "execution_count": null,
      "outputs": []
    },
    {
      "cell_type": "code",
      "metadata": {
        "id": "iHLtgKCyFHsy",
        "colab_type": "code",
        "colab": {}
      },
      "source": [
        "policy2 = greedy_policy_from_returns_tbl(estimated_returns)\n",
        "policy2"
      ],
      "execution_count": null,
      "outputs": []
    },
    {
      "cell_type": "code",
      "metadata": {
        "id": "orYp9J0cHXB9",
        "colab_type": "code",
        "colab": {}
      },
      "source": [
        "pretty_print_policy(policy)"
      ],
      "execution_count": null,
      "outputs": []
    },
    {
      "cell_type": "markdown",
      "metadata": {
        "id": "6kJ3g6kfHaBN",
        "colab_type": "text"
      },
      "source": [
        "### Epsilon-greedy policy\n",
        "**Guiding Principle:** Greedy policies are bad in the beginning. Random policies in the beginning followed by greedy policies later on crush it!"
      ]
    },
    {
      "cell_type": "code",
      "metadata": {
        "id": "k7j3NwXiK7EY",
        "colab_type": "code",
        "colab": {}
      },
      "source": [
        "def epsilon_greedy_policy_from_returns_tbl(table, epsilon=0.1):\n",
        "  #print(table)\n",
        "  policy = {s:None for s in table.index }\n",
        "\n",
        "  for state in table.index:\n",
        "    if state not in terminal_states:\n",
        "      actions = table.columns\n",
        "      action_probs = np.asarray([epsilon/len(actions)]*len(actions),dtype=np.float)\n",
        "      \n",
        "      greedy_action_index = table.loc[state].argmax()\n",
        "      action_probs[greedy_action_index] += 1-epsilon\n",
        "      \n",
        "      epsilon_greedy_action = np.random.choice(table.columns,p=action_probs)\n",
        "      \n",
        "      policy[state] = epsilon_greedy_action\n",
        "      #print(table.columns[greedy_action_index], epsilon_greedy_action)\n",
        "  return policy"
      ],
      "execution_count": null,
      "outputs": []
    },
    {
      "cell_type": "code",
      "metadata": {
        "id": "LO7JPO6bRkbB",
        "colab_type": "code",
        "colab": {}
      },
      "source": [
        "print(estimated_returns)\n",
        "epsilon_greedy_policy_from_returns_tbl(estimated_returns,1)"
      ],
      "execution_count": null,
      "outputs": []
    },
    {
      "cell_type": "code",
      "metadata": {
        "id": "vcemjbcPNJSa",
        "colab_type": "code",
        "colab": {}
      },
      "source": [
        "ESTIMATED_RETURNS_TBL = pd.DataFrame.from_dict({s:{a:0 for a in foolsball.actions} for s in range(foolsball.n_states)}, orient='index')\n",
        "VISITS_COUNTS_TBL = pd.DataFrame.from_dict({s:{a:0 for a in foolsball.actions} for s in range(foolsball.n_states)}, orient='index')\n",
        "\n",
        "n_episodes = 500\n",
        "\n",
        "for i in range(n_episodes):\n",
        "  estimated_returns = ESTIMATED_RETURNS_TBL#.div(VISITS_COUNTS_TBL+1) \n",
        "  \n",
        "  #print(estimated_returns)\n",
        "  if i<1000:\n",
        "    policy_i = epsilon_greedy_policy_from_returns_tbl(estimated_returns,1)\n",
        "    #episode_i = collect_episode_from_policy(policy_i)\n",
        "    episode_i = collect_random_episode()\n",
        "  else:\n",
        "    policy_i = epsilon_greedy_policy_from_returns_tbl(estimated_returns,0.1)\n",
        "    episode_i = collect_episode_from_policy(policy_i)\n",
        "  #print(episode_i)\n",
        "  \n",
        "  states, actions, discounted_returns = discounted_return_from_episode(episode_i, gamma=HYPER_PARAMS['gamma'])\n",
        "\n",
        "  for s,a,ret in zip(states, actions, discounted_returns):\n",
        "    ESTIMATED_RETURNS_TBL.loc[s,a] += 1.0*(ret-ESTIMATED_RETURNS_TBL.loc[s,a])\n",
        "    VISITS_COUNTS_TBL.loc[s,a] += 1\n",
        "  #print(VISITS_COUNTS_TBL)"
      ],
      "execution_count": null,
      "outputs": []
    },
    {
      "cell_type": "code",
      "metadata": {
        "id": "HFezSR8KNmDO",
        "colab_type": "code",
        "colab": {}
      },
      "source": [
        "estimated_returns = ESTIMATED_RETURNS_TBL.div(VISITS_COUNTS_TBL+1) ## Averaging returns. Avoid dividing by zeros.\n",
        "estimated_returns"
      ],
      "execution_count": null,
      "outputs": []
    },
    {
      "cell_type": "code",
      "metadata": {
        "id": "IfsDGEfPNzHh",
        "colab_type": "code",
        "colab": {}
      },
      "source": [
        "policy3 = greedy_policy_from_returns_tbl(estimated_returns)\n",
        "policy3"
      ],
      "execution_count": null,
      "outputs": []
    },
    {
      "cell_type": "code",
      "metadata": {
        "id": "vf-LlZfrOBQf",
        "colab_type": "code",
        "colab": {}
      },
      "source": [
        "pretty_print_policy(policy3)"
      ],
      "execution_count": null,
      "outputs": []
    },
    {
      "cell_type": "code",
      "metadata": {
        "id": "ScSE5u7wOEaM",
        "colab_type": "code",
        "colab": {}
      },
      "source": [
        ""
      ],
      "execution_count": null,
      "outputs": []
    }
  ]
}