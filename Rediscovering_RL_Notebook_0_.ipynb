{
  "nbformat": 4,
  "nbformat_minor": 0,
  "metadata": {
    "colab": {
      "name": "Rediscovering RL- Notebook 0 .ipynb",
      "provenance": [],
      "authorship_tag": "ABX9TyNzaxU3tOaBOXVDJS4NIjGR",
      "include_colab_link": true
    },
    "kernelspec": {
      "name": "python3",
      "display_name": "Python 3"
    }
  },
  "cells": [
    {
      "cell_type": "markdown",
      "metadata": {
        "id": "view-in-github",
        "colab_type": "text"
      },
      "source": [
        "<a href=\"https://colab.research.google.com/github/farhanhubble/discover-drl/blob/master/Rediscovering_RL_Notebook_0_.ipynb\" target=\"_parent\"><img src=\"https://colab.research.google.com/assets/colab-badge.svg\" alt=\"Open In Colab\"/></a>"
      ]
    },
    {
      "cell_type": "code",
      "metadata": {
        "id": "KcMMYrax7MVv",
        "colab_type": "code",
        "colab": {}
      },
      "source": [
        "agent = '⚽'\n",
        "opponent = '👕'\n",
        "goal = '🥅'\n",
        "\n",
        "arena = [['⚽', ' ' , '👕', ' ' ],\n",
        "         [' ' , ' ' , ' ' , '👕'],\n",
        "         [' ' , '👕', ' ' , ' ' ],\n",
        "         [' ' , ' ' , ' ' , '👕'],\n",
        "         [' ' , '👕', ' ' , '🥅']]"
      ],
      "execution_count": 4,
      "outputs": []
    },
    {
      "cell_type": "code",
      "metadata": {
        "id": "faVO8xdj7ZLA",
        "colab_type": "code",
        "colab": {}
      },
      "source": [
        "import numpy as np\n",
        "\n",
        "class Foolsball(object):\n",
        "\n",
        "  def __to_state__(self,row,col):\n",
        "    return row*self.n_cols + col\n",
        "\n",
        "  def __to_indices__(self, state):\n",
        "    row = state / self.n_rows\n",
        "    col = state % self.n_rows\n",
        "    return row,col\n",
        "\n",
        "  def __deserialize__(self,map:list,agent:str,opponent:str, goal:str):\n",
        "    self.n_rows = len(map)\n",
        "    self.n_cols = len(map[0])\n",
        "    self.n_states = self.n_rows * self.n_cols \n",
        "    self.map = np.asarray(map)\n",
        "\n",
        "    self.init_state = None\n",
        "    self.goal = None\n",
        "    self.opponents = []\n",
        "\n",
        "    for row in range(self.n_rows):\n",
        "      for col in range(self.n_cols):\n",
        "        if map[row][col] == agent:\n",
        "          self.init_state = self.__to_state__(row,col)\n",
        "        \n",
        "        elif map[row][col] == agent:\n",
        "          self.opponents.append(self.__to_state__(row,col))\n",
        "\n",
        "        elif map[row][col] == goal:\n",
        "          self.goal = self.__to_state__(row,col)\n",
        "\n",
        "    assert self.init_state is not None, print(f\"Map {map} does not specify an agent {agent} location\")\n",
        "    assert self.goal is not None,  print(f\"Map {map} does not specify a goal {goal} location\")\n",
        "    assert not self.opponents,  print(f\"Map {map} does not specify any opponents {opponent} location\")\n",
        "\n",
        "    return self.init_state\n",
        "\n",
        "\n",
        "  def __get_next_state_on_action__(self,state,action):\n",
        "    row, col = self.__to_indices__(state)\n",
        "    action_to_index_delta = {'n':[-1,0], 'e':[0,+1], 'w':[0,-1], 's':[+1,0]}\n",
        "\n",
        "    row_delta, col_delta = action_to_index_delta[action]\n",
        "    new_row , new_col = row+row_delta, col+col_delta\n",
        "\n",
        "    ## Return current state if next state is invalid\n",
        "    if not(0<=new_row<self.n_rows) or not(0<=new_col<self.n_cols):\n",
        "      return state  \n",
        "    \n",
        "    return self.__to_state__(new_row, new_col)\n",
        "\n",
        "  \n",
        "  def __init__(self,map,agent,opponent,goal):\n",
        "    self.state = self.__deserialize__(map,agent,opponent,goal)\n",
        "    self.done = False\n",
        "    self.actions = ['n','e','w','s']\n",
        "    self.transitions = self.__install_transition_table__()\n",
        "\n",
        "  \n",
        "  def __install_transition_table__(self):\n",
        "    transitions = {}\n",
        "    for s in range(self.n_states):\n",
        "      for a in self.actions:\n",
        "        transitions[s] = self.__get_next_state_on_action__(s,a)\n",
        "\n",
        "\n",
        "  def reset(self):\n",
        "    self.state = self.init_state\n",
        "    self.done  = False\n",
        "    return self.state\n",
        "\n",
        "  \n",
        "  def step(self,action):\n",
        "    assert not self.done, \\\n",
        "    print(f'No actions supported in a terminal state {self.state}.'+\n",
        "          ' Check the \"done\" flag before calling step()')\n",
        "    next_state = __get_next_state_on_action__(self.state, action)\n",
        "\n",
        "    ## Transition rejected due to illegal action (move)\n",
        "    if next_state == self.state:\n",
        "      reward = -1\n",
        "      done = False\n",
        "    \n",
        "    ## Goal!\n",
        "    elif next_state == __to_state__(self.goal):\n",
        "      reward = +5\n",
        "      done = self.done = True\n",
        "    \n",
        "    ## Ran into opponent. Heavy penalty.\n",
        "    elif __to_indices__(next_state) in self.opponents:\n",
        "      reward = -5\n",
        "      done = self.done = True\n",
        "\n",
        "    ## Made a safe and valid move. Penalize to take the shortest route.  \n",
        "    else:\n",
        "      reward = -1\n",
        "      done = False\n",
        "\n",
        "    return next_state, reward, done"
      ],
      "execution_count": 12,
      "outputs": []
    },
    {
      "cell_type": "code",
      "metadata": {
        "id": "hK5uEU1QGddR",
        "colab_type": "code",
        "colab": {}
      },
      "source": [
        "foolsball = Foolsball(arena, agent, opponent, goal)"
      ],
      "execution_count": 13,
      "outputs": []
    },
    {
      "cell_type": "code",
      "metadata": {
        "id": "JrPzPmXKGqmN",
        "colab_type": "code",
        "colab": {}
      },
      "source": [
        ""
      ],
      "execution_count": null,
      "outputs": []
    }
  ]
}