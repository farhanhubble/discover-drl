{
  "nbformat": 4,
  "nbformat_minor": 0,
  "metadata": {
    "colab": {
      "name": "Rediscovering RL- Notebook 0 .ipynb",
      "provenance": [],
      "collapsed_sections": [],
      "authorship_tag": "ABX9TyNzYfxB/be+5mdnpeKdDH8V",
      "include_colab_link": true
    },
    "kernelspec": {
      "name": "python3",
      "display_name": "Python 3"
    }
  },
  "cells": [
    {
      "cell_type": "markdown",
      "metadata": {
        "id": "view-in-github",
        "colab_type": "text"
      },
      "source": [
        "<a href=\"https://colab.research.google.com/github/farhanhubble/discover-drl/blob/master/Rediscovering_RL_Notebook_0_.ipynb\" target=\"_parent\"><img src=\"https://colab.research.google.com/assets/colab-badge.svg\" alt=\"Open In Colab\"/></a>"
      ]
    },
    {
      "cell_type": "code",
      "metadata": {
        "id": "KcMMYrax7MVv",
        "colab_type": "code",
        "colab": {}
      },
      "source": [
        "agent = '⚽'\n",
        "opponent = '👕'\n",
        "goal = '🥅'\n",
        "\n",
        "arena = [['⚽', ' ' , '👕', ' ' ],\n",
        "         [' ' , ' ' , ' ' , '👕'],\n",
        "         [' ' , '👕', ' ' , ' ' ],\n",
        "         [' ' , ' ' , ' ' , '👕'],\n",
        "         [' ' , '👕', ' ' , '🥅']]"
      ],
      "execution_count": 1,
      "outputs": []
    },
    {
      "cell_type": "code",
      "metadata": {
        "id": "faVO8xdj7ZLA",
        "colab_type": "code",
        "colab": {}
      },
      "source": [
        "import numpy as np\n",
        "\n",
        "class Foolsball(object):\n",
        "\n",
        "  def __to_state__(self,row,col):\n",
        "    \"\"\"Convert from integer state to indices (row,col).\"\"\"\n",
        "    return row*self.n_cols + col\n",
        "\n",
        "  def __to_indices__(self, state):\n",
        "    \"\"\"Convert indices(row,col) to state (single integer).\"\"\"\n",
        "    row = state // self.n_cols\n",
        "    col = state % self.n_cols\n",
        "    return row,col\n",
        "\n",
        "  def __deserialize__(self,map:list,agent:str,opponent:str, goal:str):\n",
        "    \"\"\"Convrt a string representation of a map into a 2D numpy array\n",
        "    Param map: list of lists of strings representing the player, opponents and goal.\n",
        "    Param agent: string representing the agent on the map \n",
        "    Param opponent: string representing every instance of an opponent player\n",
        "    Param goal: string representing the location of the goal on the map\n",
        "    \"\"\"\n",
        "    ## Capture dimensions and map.\n",
        "    self.n_rows = len(map)\n",
        "    self.n_cols = len(map[0])\n",
        "    self.n_states = self.n_rows * self.n_cols \n",
        "    self.map = np.asarray(map)\n",
        "\n",
        "    ## Store string representations for printing the map, etc.\n",
        "    self.agent_repr = agent\n",
        "    self.opponent_repr  = opponent\n",
        "    self.goal_repr = goal\n",
        "\n",
        "    ## Find initial state, the desired goal state and the state of the opponents. \n",
        "    self.init_state = None\n",
        "    self.goal_state = None\n",
        "    self.opponents_states = []\n",
        "\n",
        "    for row in range(self.n_rows):\n",
        "      for col in range(self.n_cols):\n",
        "        if map[row][col] == agent:\n",
        "          # Store the initial state outside the map.\n",
        "          # This helps in quickly resetting the game to the initial state and\n",
        "          # also simplifies printing the map independent of the agent's state. \n",
        "          self.init_state = self.__to_state__(row,col)\n",
        "          self.map[row,col] = ' ' \n",
        "        \n",
        "        elif map[row][col] == opponent:\n",
        "          self.opponents_states.append(self.__to_state__(row,col))\n",
        "\n",
        "        elif map[row][col] == goal:\n",
        "          self.goal_state = self.__to_state__(row,col)\n",
        "\n",
        "    assert self.init_state is not None, print(f\"Map {map} does not specify an agent {agent} location\")\n",
        "    assert self.goal_state is not None,  print(f\"Map {map} does not specify a goal {goal} location\")\n",
        "    assert self.opponents_states,  print(f\"Map {map} does not specify any opponents {opponent} location\")\n",
        "\n",
        "    return self.init_state\n",
        "\n",
        "\n",
        "  def __get_next_state_on_action__(self,state,action):\n",
        "    \"\"\"Return next state based on current state and action.\"\"\"\n",
        "    row, col = self.__to_indices__(state)\n",
        "    action_to_index_delta = {'n':[-1,0], 'e':[0,+1], 'w':[0,-1], 's':[+1,0]}\n",
        "\n",
        "    row_delta, col_delta = action_to_index_delta[action]\n",
        "    new_row , new_col = row+row_delta, col+col_delta\n",
        "\n",
        "    ## Return current state if next state is invalid\n",
        "    ## The caller need to check for this\n",
        "    if not(0<=new_row<self.n_rows) or not(0<=new_col<self.n_cols):\n",
        "      return state  \n",
        "    \n",
        "    return self.__to_state__(new_row, new_col)\n",
        "\n",
        "\n",
        "  def __get_reward_for_transition__(self,state,next_state):\n",
        "    \"\"\" Return the reward based on the transition from current state to next state. \"\"\"\n",
        "    ## Transition rejected due to illegal action (move)\n",
        "    if next_state == self.state:\n",
        "      reward = self.rewards['outside']\n",
        "    \n",
        "    ## Goal!\n",
        "    elif next_state == self.goal_state:\n",
        "      reward = self.rewards['goal']\n",
        "    \n",
        "    ## Ran into opponent. \n",
        "    elif next_state in self.opponents_states:\n",
        "      reward = self.rewards['opponent']\n",
        "\n",
        "    ## Made a safe and valid move.   \n",
        "    else:\n",
        "      reward = self.rewards['unmarked']\n",
        "\n",
        "    return reward\n",
        "\n",
        "\n",
        "  def __is_terminal_state__(self, state):\n",
        "    return (state == self.goal_state) or (state in self.opponents_states) \n",
        "\n",
        "  \n",
        "  def __init__(self,map,agent,opponent,goal):\n",
        "    \"\"\"Spawn the world, create variables to track state and actions.\"\"\"\n",
        "    # We just need to track the location of the agent (the ball)\n",
        "    # Everything else is static and so a potential algorithm doesn't \n",
        "    # have to look at it. The `done` flag terminal states.\n",
        "    self.state = self.__deserialize__(map,agent,opponent,goal)\n",
        "    self.done = False\n",
        "    self.actions = ['n','e','w','s']\n",
        "\n",
        "    # Build a trnasition table (dict of dicts), mapping every (state,action)\n",
        "    # pair to the next state. This defines the one-step dynamics of the \n",
        "    # environment \n",
        "    self.transitions = self.__install_transition_table__()\n",
        "\n",
        "\n",
        "    # Set up the rewards\n",
        "    self.default_rewards = {'unmarked':-1, 'opponent':-5, 'outside':-1, 'goal':+5}\n",
        "    self.set_rewards(self.default_rewards)\n",
        "\n",
        "  \n",
        "  def __install_transition_table__(self):\n",
        "    ## Create a dictionary of dictionaries that can map every (state,action) pair\n",
        "    ## to the corresponding next state.\n",
        "    transitions = {s:{a:None for a in self.actions} for s in range(self.n_states)}\n",
        "    for s in range(self.n_states):\n",
        "      for a in self.actions:\n",
        "        transitions[s][a] = self.__get_next_state_on_action__(s,a)\n",
        "\n",
        "\n",
        "  def reset(self):\n",
        "    \"\"\"Reset the environment to its initial state.\"\"\"\n",
        "    # There's really just two things we need to reset: the state, which should\n",
        "    # be reset to the initial state, and the `done` flag which should be \n",
        "    # cleared to signal that we are not in a terminal state anymore, even if we \n",
        "    # were earlier. \n",
        "    self.state = self.init_state\n",
        "    self.done  = False\n",
        "    return self.state\n",
        "\n",
        "  \n",
        "  def set_rewards(self,rewards):\n",
        "    if not self.state == self.init_state:\n",
        "      print('Warning: Setting reward while not in initial state! You may want to call reset() first.')\n",
        "    for key in self.default_rewards:\n",
        "      assert key in rewards, print(f'Key {key} missing from reward.') \n",
        "    self.rewards = rewards\n",
        "\n",
        "  \n",
        "  def step(self,action):\n",
        "    \"\"\"Simulate state transition based on current state and action received.\"\"\"\n",
        "    assert not self.done, \\\n",
        "    print(f'You cannot call step() in a terminal state({self.state}). Check the \"done\" flag before calling step() to avoid this.')\n",
        "    next_state = self.__get_next_state_on_action__(self.state, action)\n",
        "\n",
        "    reward = self.__get_reward_for_transition__(self.state, next_state)\n",
        "    done = self.__is_terminal_state__(next_state)\n",
        "\n",
        "    self.state, self.done = next_state, done\n",
        "    \n",
        "    return next_state, reward, done\n",
        "\n",
        "\n",
        "  def render(self):\n",
        "    \"\"\"Pretty-print the environment and agent.\"\"\"\n",
        "    ## Create a copy of the map and change data type to accomodate\n",
        "    ## 3-character strings\n",
        "    _map = np.array(self.map, dtype='<U3')\n",
        "\n",
        "    ## Mark unoccupied positions with special symbol.\n",
        "    ## And add extra spacing to align all columns.\n",
        "    for row in range(_map.shape[0]):\n",
        "      for col in range(_map.shape[1]):\n",
        "        if _map[row,col] == ' ':\n",
        "          _map[row,col] = ' + '\n",
        "        \n",
        "        elif _map[row,col] == self.opponent_repr: \n",
        "          _map[row,col] =  self.opponent_repr + ' '\n",
        "        \n",
        "        elif _map[row,col] == self.goal_repr:\n",
        "          _map[row,col] = ' ' + self.goal_repr + ' '\n",
        "      \n",
        "    ## If current state overlaps with the goal state or one of the opponents'\n",
        "    ## states, susbstitute a distinct marker.\n",
        "    if self.state == self.goal_state:\n",
        "      r,c = self.__to_indices__(self.state)\n",
        "      _map[r,c] = ' 🏁 '\n",
        "    elif self.state in self.opponents_states:\n",
        "      r,c = self.__to_indices__(self.state)\n",
        "      _map[r,c] = ' ❗ '\n",
        "    else:\n",
        "      r,c = self.__to_indices__(self.state)\n",
        "      _map[r,c] = ' ' + self.agent_repr\n",
        "    \n",
        "    for row in range(_map.shape[0]):\n",
        "      for col in range(_map.shape[1]):\n",
        "        print(f' {_map[row,col]} ',end=\"\")\n",
        "      print('\\n') \n",
        "    \n",
        "    print()\n",
        "\n"
      ],
      "execution_count": 2,
      "outputs": []
    },
    {
      "cell_type": "code",
      "metadata": {
        "id": "hK5uEU1QGddR",
        "colab_type": "code",
        "colab": {}
      },
      "source": [
        "foolsball = Foolsball(arena, agent, opponent, goal)"
      ],
      "execution_count": 3,
      "outputs": []
    },
    {
      "cell_type": "code",
      "metadata": {
        "id": "5nn8RNR1NDZK",
        "colab_type": "code",
        "colab": {
          "base_uri": "https://localhost:8080/",
          "height": 202
        },
        "outputId": "5724c17b-d6d9-48ee-a58f-2486ac4ad1ef"
      },
      "source": [
        "foolsball.render()"
      ],
      "execution_count": 4,
      "outputs": [
        {
          "output_type": "stream",
          "text": [
            "  ⚽   +   👕    +  \n",
            "\n",
            "  +    +    +   👕  \n",
            "\n",
            "  +   👕    +    +  \n",
            "\n",
            "  +    +    +   👕  \n",
            "\n",
            "  +   👕    +    🥅  \n",
            "\n",
            "\n"
          ],
          "name": "stdout"
        }
      ]
    },
    {
      "cell_type": "code",
      "metadata": {
        "id": "B4w1HCRHwG60",
        "colab_type": "code",
        "colab": {}
      },
      "source": [
        "## Move: n,s,e,w\n",
        "## Reset: r\n",
        "## Exit: x\n",
        "while True:\n",
        "  try:\n",
        "    act = input('>>')\n",
        "\n",
        "    if act in foolsball.actions:\n",
        "      print(foolsball.step(act))\n",
        "      print()\n",
        "      foolsball.render()\n",
        "    elif act == 'r':\n",
        "      print(foolsball.reset())\n",
        "      print()\n",
        "      foolsball.render()\n",
        "    elif act == 'x':\n",
        "      break\n",
        "    else:\n",
        "      print(f'Invalid input:{act}')\n",
        "  except Exception as e:\n",
        "    print(e)"
      ],
      "execution_count": null,
      "outputs": []
    },
    {
      "cell_type": "code",
      "metadata": {
        "id": "tyzJFjD5FRov",
        "colab_type": "code",
        "colab": {}
      },
      "source": [
        "## Reward and return\n",
        "path1 = ['e','s','e','s','s','s','e']\n",
        "path2 = ['s','e','e','s','s','s','e']\n",
        "path3 = ['s','s','s','e','e','s','e']\n",
        "path4 = ['s','s','s','s','n','e','e','s','e']"
      ],
      "execution_count": null,
      "outputs": []
    },
    {
      "cell_type": "code",
      "metadata": {
        "id": "fJqLJA8jQCyk",
        "colab_type": "code",
        "colab": {}
      },
      "source": [
        "def get_return(path):\n",
        "  foolsball.reset()\n",
        "  foolsball.render()\n",
        "  _return_ = 0\n",
        "  for act in path: \n",
        "    next_state, reward, done = foolsball.step(act)\n",
        "    foolsball.render()\n",
        "    _return_ += reward\n",
        "    \n",
        "    if done:\n",
        "      break\n",
        "    \n",
        "  print(f'Return (accumulated reward): {_return_}')"
      ],
      "execution_count": null,
      "outputs": []
    },
    {
      "cell_type": "code",
      "metadata": {
        "id": "GyqzhRJeR3eL",
        "colab_type": "code",
        "colab": {}
      },
      "source": [
        "get_return(path1)"
      ],
      "execution_count": null,
      "outputs": []
    },
    {
      "cell_type": "code",
      "metadata": {
        "id": "5kGOePDNR7vz",
        "colab_type": "code",
        "colab": {}
      },
      "source": [
        "get_return(path2)"
      ],
      "execution_count": null,
      "outputs": []
    },
    {
      "cell_type": "code",
      "metadata": {
        "id": "ZyqLBXy0Sncw",
        "colab_type": "code",
        "colab": {}
      },
      "source": [
        "get_return(path3)"
      ],
      "execution_count": null,
      "outputs": []
    },
    {
      "cell_type": "code",
      "metadata": {
        "id": "jFJS37teSpQe",
        "colab_type": "code",
        "colab": {}
      },
      "source": [
        "get_return(path4)"
      ],
      "execution_count": null,
      "outputs": []
    },
    {
      "cell_type": "code",
      "metadata": {
        "id": "EdzQu5qmStXR",
        "colab_type": "code",
        "colab": {
          "base_uri": "https://localhost:8080/",
          "height": 34
        },
        "outputId": "d82b2892-9243-476c-fcfd-1d6838f49936"
      },
      "source": [
        "## Different reward structure\n",
        "foolsball.set_rewards({'unmarked':0, 'opponent':-5, 'outside':-1, 'goal':+5})"
      ],
      "execution_count": 91,
      "outputs": [
        {
          "output_type": "stream",
          "text": [
            "Warning: Setting reward while not in initial state! You may want to call reset() first.\n"
          ],
          "name": "stdout"
        }
      ]
    },
    {
      "cell_type": "code",
      "metadata": {
        "id": "MXTnL0IPVO1D",
        "colab_type": "code",
        "colab": {}
      },
      "source": [
        "get_return(path1)"
      ],
      "execution_count": null,
      "outputs": []
    },
    {
      "cell_type": "code",
      "metadata": {
        "id": "2RdLqt9FVcCp",
        "colab_type": "code",
        "colab": {}
      },
      "source": [
        "get_return(path4)"
      ],
      "execution_count": null,
      "outputs": []
    },
    {
      "cell_type": "code",
      "metadata": {
        "id": "csaEvig4WuCO",
        "colab_type": "code",
        "colab": {}
      },
      "source": [
        "def get_discounted_return(path, gamma=0):\n",
        "  foolsball.reset()\n",
        "  foolsball.render()\n",
        "  _return_ = 0\n",
        "  discount_coeff = 1\n",
        "  for act in path: \n",
        "    next_state, reward, done = foolsball.step(act)\n",
        "    foolsball.render()\n",
        "    _return_ += discount_coeff*reward\n",
        "    discount_coeff *= gamma    \n",
        "    if done:\n",
        "      break\n",
        "    \n",
        "  print(f'Return (accumulated reward): {_return_}')"
      ],
      "execution_count": null,
      "outputs": []
    },
    {
      "cell_type": "code",
      "metadata": {
        "id": "nBuFLEMLEUbr",
        "colab_type": "code",
        "colab": {}
      },
      "source": [
        "HYPER_PARAMS = {'gamma':0.9}"
      ],
      "execution_count": 5,
      "outputs": []
    },
    {
      "cell_type": "code",
      "metadata": {
        "id": "StLUFUgjW_cz",
        "colab_type": "code",
        "colab": {}
      },
      "source": [
        "get_discounted_return(path1, HYPER_PARAMS['gamma'])"
      ],
      "execution_count": null,
      "outputs": []
    },
    {
      "cell_type": "code",
      "metadata": {
        "id": "GtaApbodXVgp",
        "colab_type": "code",
        "colab": {}
      },
      "source": [
        "get_discounted_return(path4, HYPER_PARAMS['gamma'])"
      ],
      "execution_count": null,
      "outputs": []
    },
    {
      "cell_type": "code",
      "metadata": {
        "id": "1Un8MRsjdTbu",
        "colab_type": "code",
        "colab": {}
      },
      "source": [
        "## Highest return = max(return_path1, return_path2)"
      ],
      "execution_count": null,
      "outputs": []
    },
    {
      "cell_type": "code",
      "metadata": {
        "id": "0saofKG-Xf_Y",
        "colab_type": "code",
        "colab": {}
      },
      "source": [
        "## Selecting a path is making a sequence of decisions.\n",
        "## Enumerating all paths is a catastrophic combinatorial explosion.\n",
        "## The trick is to calculate the action with the highest **return** for every state."
      ],
      "execution_count": null,
      "outputs": []
    },
    {
      "cell_type": "code",
      "metadata": {
        "id": "jNH54KMKpvua",
        "colab_type": "code",
        "colab": {}
      },
      "source": [
        "import pandas as pd"
      ],
      "execution_count": 6,
      "outputs": []
    },
    {
      "cell_type": "code",
      "metadata": {
        "id": "yascBBM5uLwC",
        "colab_type": "code",
        "colab": {}
      },
      "source": [
        "REWARDS_TBL = pd.DataFrame.from_dict({s:{a:None for a in foolsball.actions} for s in range(foolsball.n_states)}, orient='index')\n",
        "REWARDS_TBL"
      ],
      "execution_count": null,
      "outputs": []
    },
    {
      "cell_type": "code",
      "metadata": {
        "id": "BJRlz7nBuQxd",
        "colab_type": "code",
        "colab": {}
      },
      "source": [
        "for state in REWARDS_TBL.index:\n",
        "  if not foolsball.__is_terminal_state__(state):\n",
        "    for action in REWARDS_TBL.columns:\n",
        "      next_state = foolsball.__get_next_state_on_action__(state,action)\n",
        "      REWARDS_TBL.loc[state, action] = foolsball.__get_reward_for_transition__(state, next_state)"
      ],
      "execution_count": null,
      "outputs": []
    },
    {
      "cell_type": "code",
      "metadata": {
        "id": "5u-rbqyavKWu",
        "colab_type": "code",
        "colab": {
          "base_uri": "https://localhost:8080/",
          "height": 212
        },
        "outputId": "4b473f63-bcee-4dfd-8ffd-9dc1862bedae"
      },
      "source": [
        "terminal_states = foolsball.opponents_states+[foolsball.goal_state]\n",
        "print(terminal_states)\n",
        "REWARDS_TBL"
      ],
      "execution_count": 7,
      "outputs": [
        {
          "output_type": "stream",
          "text": [
            "[2, 7, 9, 15, 17, 19]\n"
          ],
          "name": "stdout"
        },
        {
          "output_type": "error",
          "ename": "NameError",
          "evalue": "ignored",
          "traceback": [
            "\u001b[0;31m---------------------------------------------------------------------------\u001b[0m",
            "\u001b[0;31mNameError\u001b[0m                                 Traceback (most recent call last)",
            "\u001b[0;32m<ipython-input-7-11f0106f6c1d>\u001b[0m in \u001b[0;36m<module>\u001b[0;34m()\u001b[0m\n\u001b[1;32m      1\u001b[0m \u001b[0mterminal_states\u001b[0m \u001b[0;34m=\u001b[0m \u001b[0mfoolsball\u001b[0m\u001b[0;34m.\u001b[0m\u001b[0mopponents_states\u001b[0m\u001b[0;34m+\u001b[0m\u001b[0;34m[\u001b[0m\u001b[0mfoolsball\u001b[0m\u001b[0;34m.\u001b[0m\u001b[0mgoal_state\u001b[0m\u001b[0;34m]\u001b[0m\u001b[0;34m\u001b[0m\u001b[0;34m\u001b[0m\u001b[0m\n\u001b[1;32m      2\u001b[0m \u001b[0mprint\u001b[0m\u001b[0;34m(\u001b[0m\u001b[0mterminal_states\u001b[0m\u001b[0;34m)\u001b[0m\u001b[0;34m\u001b[0m\u001b[0;34m\u001b[0m\u001b[0m\n\u001b[0;32m----> 3\u001b[0;31m \u001b[0mREWARDS_TBL\u001b[0m\u001b[0;34m\u001b[0m\u001b[0;34m\u001b[0m\u001b[0m\n\u001b[0m",
            "\u001b[0;31mNameError\u001b[0m: name 'REWARDS_TBL' is not defined"
          ]
        }
      ]
    },
    {
      "cell_type": "code",
      "metadata": {
        "id": "BiWIpBIj0sql",
        "colab_type": "code",
        "colab": {}
      },
      "source": [
        "RETURNS_TBL = pd.DataFrame.from_dict({s:{a:None for a in foolsball.actions} for s in range(foolsball.n_states)}, orient='index')"
      ],
      "execution_count": null,
      "outputs": []
    },
    {
      "cell_type": "code",
      "metadata": {
        "id": "cGFzW7Xb886q",
        "colab_type": "code",
        "colab": {}
      },
      "source": [
        "RETURNS_TBL"
      ],
      "execution_count": null,
      "outputs": []
    },
    {
      "cell_type": "code",
      "metadata": {
        "id": "IKCqzD9_8-E7",
        "colab_type": "code",
        "colab": {}
      },
      "source": [
        "RETURNS_TBL.loc[terminal_states]"
      ],
      "execution_count": null,
      "outputs": []
    },
    {
      "cell_type": "code",
      "metadata": {
        "id": "gVay2Rer9eQI",
        "colab_type": "code",
        "colab": {}
      },
      "source": [
        "RETURNS_TBL.loc[terminal_states] = 0"
      ],
      "execution_count": null,
      "outputs": []
    },
    {
      "cell_type": "code",
      "metadata": {
        "id": "VsQpmpVk-zPa",
        "colab_type": "code",
        "colab": {}
      },
      "source": [
        "RETURNS_TBL"
      ],
      "execution_count": null,
      "outputs": []
    },
    {
      "cell_type": "code",
      "metadata": {
        "id": "Ft8yVJdJWd_W",
        "colab_type": "code",
        "colab": {}
      },
      "source": [
        "def make_returns_table(terminal_states):\n",
        "  table = pd.DataFrame.from_dict({s:{a:None for a in foolsball.actions} for s in range(foolsball.n_states)}, orient='index')\n",
        "  table.loc[terminal_states] = 0\n",
        "  return table"
      ],
      "execution_count": null,
      "outputs": []
    },
    {
      "cell_type": "code",
      "metadata": {
        "id": "CZKZKPpYM8FD",
        "colab_type": "code",
        "colab": {}
      },
      "source": [
        "def fill_returns_table_v0(table,state,debug=False): \n",
        "  for action in table.columns:\n",
        "    if table.loc[state][action] is None:\n",
        "      next_state = foolsball.__get_next_state_on_action__(state, action)\n",
        "      reward = foolsball.__get_reward_for_transition__(state, next_state)\n",
        "\n",
        "      if debug:\n",
        "        print(f'Trying to fill ({state},{action},{next_state})')\n",
        "      \n",
        "      fill_returns_table_v0(table, next_state, debug) # <= Earth shaking problem here!!! 😱😱😱\n",
        "      table.loc[state][action]  = reward + HYPER_PARAMS['gamma'] * table.loc[next_state].max()\n",
        "    \n",
        "    else:\n",
        "      if debug:\n",
        "        print((state,action),f'already has a RETURN {table.loc[state][action]}')\n",
        "  "
      ],
      "execution_count": null,
      "outputs": []
    },
    {
      "cell_type": "code",
      "metadata": {
        "id": "xrWAG02iNMkJ",
        "colab_type": "code",
        "colab": {}
      },
      "source": [
        "table = make_returns_table(terminal_states)\n",
        "fill_returns_table_v0(table,state=0)"
      ],
      "execution_count": null,
      "outputs": []
    },
    {
      "cell_type": "code",
      "metadata": {
        "id": "mFbLxTZ0Gy64",
        "colab_type": "code",
        "colab": {}
      },
      "source": [
        "def fill_returns_table_v1(table,state,debug=False):\n",
        "  for action in table.columns:\n",
        "    if table.loc[state][action] is None:\n",
        "      next_state = foolsball.__get_next_state_on_action__(state, action)\n",
        "      reward = foolsball.__get_reward_for_transition__(state, next_state)\n",
        "      \n",
        "      if debug:\n",
        "        print(f'Trying to fill ({state},{action},{next_state})')\n",
        "      \n",
        "      if next_state == state:\n",
        "        table.loc[state][action] = -np.inf # <= No self recursion\n",
        "      else:\n",
        "        fill_returns_table_v1(table,next_state,debug)\n",
        "        table.loc[state][action]  = reward + HYPER_PARAMS['gamma'] * table.loc[next_state].max()\n",
        "    else:\n",
        "      if debug:\n",
        "        print((state,action),f'already has a RETURN {table.loc[state][action]}')"
      ],
      "execution_count": null,
      "outputs": []
    },
    {
      "cell_type": "code",
      "metadata": {
        "id": "U1AXgzoQInII",
        "colab_type": "code",
        "colab": {}
      },
      "source": [
        "table = make_returns_table(terminal_states)\n",
        "fill_returns_table_v1(table, state=0, debug=False)"
      ],
      "execution_count": null,
      "outputs": []
    },
    {
      "cell_type": "code",
      "metadata": {
        "id": "EbpZkdIwJTq1",
        "colab_type": "code",
        "colab": {}
      },
      "source": [
        "def fill_returns_table_v2(table,state, debug=False):\n",
        "  for action in table.columns:\n",
        "    if table.loc[state][action] is None:\n",
        "      next_state = foolsball.__get_next_state_on_action__(state, action)\n",
        "      reward = foolsball.__get_reward_for_transition__(state, next_state)\n",
        "      \n",
        "      if debug:\n",
        "        print(f'Trying to fill ({state},{action},{next_state})')\n",
        "      \n",
        "      if next_state == state:\n",
        "        table.loc[state][action] = -np.inf # <= No self recursion\n",
        "      \n",
        "      elif not table.loc[next_state].isna().any(): # <= No recursion beyond immediate neighbor!\n",
        "        table.loc[state][action]  = reward + HYPER_PARAMS['gamma'] * table.loc[next_state].max()\n",
        "    \n",
        "    else:\n",
        "      if debug:\n",
        "        print((state,action),f'already has a RETURN {table.loc[state][action]}')"
      ],
      "execution_count": null,
      "outputs": []
    },
    {
      "cell_type": "code",
      "metadata": {
        "id": "Mm49G7-LVq83",
        "colab_type": "code",
        "colab": {}
      },
      "source": [
        "table = make_returns_table(terminal_states)"
      ],
      "execution_count": null,
      "outputs": []
    },
    {
      "cell_type": "code",
      "metadata": {
        "id": "v1dniXqKZRIq",
        "colab_type": "code",
        "colab": {}
      },
      "source": [
        "fill_returns_table_v2(table,state=0)"
      ],
      "execution_count": null,
      "outputs": []
    },
    {
      "cell_type": "code",
      "metadata": {
        "id": "YDThbMqxZYrl",
        "colab_type": "code",
        "colab": {}
      },
      "source": [
        "table"
      ],
      "execution_count": null,
      "outputs": []
    },
    {
      "cell_type": "code",
      "metadata": {
        "id": "p4J8aE8qZaPR",
        "colab_type": "code",
        "colab": {}
      },
      "source": [
        "fill_returns_table_using_v2(table,state=1)"
      ],
      "execution_count": null,
      "outputs": []
    },
    {
      "cell_type": "code",
      "metadata": {
        "id": "vcpD53bxi4js",
        "colab_type": "code",
        "colab": {}
      },
      "source": [
        "table"
      ],
      "execution_count": null,
      "outputs": []
    },
    {
      "cell_type": "code",
      "metadata": {
        "id": "wvzzuhegi5aT",
        "colab_type": "code",
        "colab": {}
      },
      "source": [
        "fill_returns_table_using_v2(table,state=3)"
      ],
      "execution_count": null,
      "outputs": []
    },
    {
      "cell_type": "code",
      "metadata": {
        "id": "4HkIB9Pzj7Ra",
        "colab_type": "code",
        "colab": {}
      },
      "source": [
        "table"
      ],
      "execution_count": null,
      "outputs": []
    },
    {
      "cell_type": "code",
      "metadata": {
        "id": "ZBT7-eE-j8ja",
        "colab_type": "code",
        "colab": {}
      },
      "source": [
        "for s in range(4,19):\n",
        "  fill_returns_table_v2(table,state=s)"
      ],
      "execution_count": null,
      "outputs": []
    },
    {
      "cell_type": "code",
      "metadata": {
        "id": "HfjVh9OAkOrt",
        "colab_type": "code",
        "colab": {}
      },
      "source": [
        "table"
      ],
      "execution_count": null,
      "outputs": []
    },
    {
      "cell_type": "code",
      "metadata": {
        "id": "ierdKTiOklYH",
        "colab_type": "code",
        "colab": {}
      },
      "source": [
        "table.isna().sum()"
      ],
      "execution_count": null,
      "outputs": []
    },
    {
      "cell_type": "code",
      "metadata": {
        "id": "LwRKvA9rkRBe",
        "colab_type": "code",
        "colab": {}
      },
      "source": [
        "for s in range(0,19):\n",
        "  fill_returns_table_v2(table,state=s)"
      ],
      "execution_count": null,
      "outputs": []
    },
    {
      "cell_type": "code",
      "metadata": {
        "id": "spKnLucvkhOi",
        "colab_type": "code",
        "colab": {}
      },
      "source": [
        "table"
      ],
      "execution_count": null,
      "outputs": []
    },
    {
      "cell_type": "code",
      "metadata": {
        "id": "kaO1U52hkiUb",
        "colab_type": "code",
        "colab": {}
      },
      "source": [
        "table.isna().sum()"
      ],
      "execution_count": null,
      "outputs": []
    },
    {
      "cell_type": "code",
      "metadata": {
        "id": "mCi6KuKAkpvP",
        "colab_type": "code",
        "colab": {}
      },
      "source": [
        "for s in range(0,19):\n",
        "  fill_returns_table_v2(table,state=s)"
      ],
      "execution_count": null,
      "outputs": []
    },
    {
      "cell_type": "code",
      "metadata": {
        "id": "AZx5QB-slAHK",
        "colab_type": "code",
        "colab": {}
      },
      "source": [
        "table"
      ],
      "execution_count": null,
      "outputs": []
    },
    {
      "cell_type": "code",
      "metadata": {
        "id": "gB4i_CZLlBci",
        "colab_type": "code",
        "colab": {}
      },
      "source": [
        "table.isna().sum()"
      ],
      "execution_count": null,
      "outputs": []
    },
    {
      "cell_type": "markdown",
      "metadata": {
        "id": "ad0G1-3_-pw0",
        "colab_type": "text"
      },
      "source": [
        "## Estimating returns through simulation\n",
        "- A.k.a Monte Carlo sampling\n",
        "- No more cheating by peeping into the environment (private APIs)"
      ]
    },
    {
      "cell_type": "code",
      "metadata": {
        "id": "Ij_84xHhlFZj",
        "colab_type": "code",
        "colab": {}
      },
      "source": [
        "def collect_random_episode():\n",
        "  state = foolsball.reset()\n",
        "  done = False\n",
        "  episode = []\n",
        "\n",
        "  while not done:\n",
        "    action = np.random.choice(foolsball.actions)\n",
        "    next_state, reward, done = foolsball.step(action)\n",
        "    episode.append([state, action, reward])\n",
        "    state = next_state\n",
        "  \n",
        "  return episode"
      ],
      "execution_count": 8,
      "outputs": []
    },
    {
      "cell_type": "code",
      "metadata": {
        "id": "TK5xQ6iwvMU_",
        "colab_type": "code",
        "colab": {
          "base_uri": "https://localhost:8080/",
          "height": 218
        },
        "outputId": "95ce4be9-9d49-4c7a-e4d0-b2fe6decb4d7"
      },
      "source": [
        "ep = collect_random_episode()\n",
        "foolsball.render()\n",
        "print(ep)"
      ],
      "execution_count": 9,
      "outputs": [
        {
          "output_type": "stream",
          "text": [
            "  +    +   👕    +  \n",
            "\n",
            "  +    +    +   👕  \n",
            "\n",
            "  +    ❗    +    +  \n",
            "\n",
            "  +    +    +   👕  \n",
            "\n",
            "  +   👕    +    🥅  \n",
            "\n",
            "\n",
            "[[0, 's', -1], [4, 's', -1], [8, 'e', -5]]\n"
          ],
          "name": "stdout"
        }
      ]
    },
    {
      "cell_type": "code",
      "metadata": {
        "id": "ugaOUXuEjNuT",
        "colab_type": "code",
        "colab": {
          "base_uri": "https://localhost:8080/",
          "height": 34
        },
        "outputId": "bd71500d-3e2d-498e-e543-1db125d5143f"
      },
      "source": [
        "list(zip(*ep))"
      ],
      "execution_count": 10,
      "outputs": [
        {
          "output_type": "execute_result",
          "data": {
            "text/plain": [
              "[(0, 4, 8), ('s', 's', 'e'), (-1, -1, -5)]"
            ]
          },
          "metadata": {
            "tags": []
          },
          "execution_count": 10
        }
      ]
    },
    {
      "cell_type": "code",
      "metadata": {
        "id": "T_r_tTfSwEIi",
        "colab_type": "code",
        "colab": {}
      },
      "source": [
        "def discounted_return_from_episode(ep, gamma=0):\n",
        "  states, actions, rewards = list(zip(*ep))\n",
        "  rewards = np.asarray(rewards)\n",
        "  discount_coeffs = np.asarray([np.power(gamma,p) for p in range(len(rewards))])\n",
        "  \n",
        "  l = len(rewards)\n",
        "  discounted_returns = [np.dot(rewards[i:],discount_coeffs[:l-i]) for i in range(l)]\n",
        "\n",
        "  return (states, actions, discounted_returns)\n"
      ],
      "execution_count": 11,
      "outputs": []
    },
    {
      "cell_type": "code",
      "metadata": {
        "id": "sp9dvrQjl_vA",
        "colab_type": "code",
        "colab": {
          "base_uri": "https://localhost:8080/",
          "height": 34
        },
        "outputId": "6f643378-bb84-480d-be2c-9ead5e7dc30d"
      },
      "source": [
        "discounted_return_from_episode(ep, gamma=HYPER_PARAMS['gamma'])"
      ],
      "execution_count": 12,
      "outputs": [
        {
          "output_type": "execute_result",
          "data": {
            "text/plain": [
              "((0, 4, 8), ('s', 's', 'e'), [-5.950000000000001, -5.5, -5.0])"
            ]
          },
          "metadata": {
            "tags": []
          },
          "execution_count": 12
        }
      ]
    },
    {
      "cell_type": "code",
      "metadata": {
        "id": "B1R--MLHmalx",
        "colab_type": "code",
        "colab": {}
      },
      "source": [
        "## Estimate returns by simulating lot of episodes.\n",
        "\n",
        "# Create empty returns table \n",
        "ESTIMATED_RETURNS_TBL = pd.DataFrame.from_dict({s:{a:0 for a in foolsball.actions} for s in range(foolsball.n_states)}, orient='index')\n",
        "VISITS_COUNTS_TBL = pd.DataFrame.from_dict({s:{a:0 for a in foolsball.actions} for s in range(foolsball.n_states)}, orient='index')\n",
        "\n",
        "n_episodes = 100  #Try 100, 500, 2000\n",
        "\n",
        "for i in range(n_episodes):\n",
        "  episode_i = collect_random_episode()\n",
        "  states, actions, discounted_returns = discounted_return_from_episode(episode_i, gamma=HYPER_PARAMS['gamma'])\n",
        "\n",
        "  for s,a,ret in zip(states, actions, discounted_returns):\n",
        "    ESTIMATED_RETURNS_TBL.loc[s,a] += ret\n",
        "    VISITS_COUNTS_TBL.loc[s,a] += 1\n",
        "  "
      ],
      "execution_count": 13,
      "outputs": []
    },
    {
      "cell_type": "code",
      "metadata": {
        "id": "GunNiOL6pC7L",
        "colab_type": "code",
        "colab": {
          "base_uri": "https://localhost:8080/",
          "height": 639
        },
        "outputId": "2213150b-acdf-40c2-bf3c-915661f5f5f9"
      },
      "source": [
        "estimated_returns = ESTIMATED_RETURNS_TBL.div(VISITS_COUNTS_TBL+1) ## Averaging returns. Avoid dividing by zeros.\n",
        "estimated_returns"
      ],
      "execution_count": 14,
      "outputs": [
        {
          "output_type": "execute_result",
          "data": {
            "text/html": [
              "<div>\n",
              "<style scoped>\n",
              "    .dataframe tbody tr th:only-of-type {\n",
              "        vertical-align: middle;\n",
              "    }\n",
              "\n",
              "    .dataframe tbody tr th {\n",
              "        vertical-align: top;\n",
              "    }\n",
              "\n",
              "    .dataframe thead th {\n",
              "        text-align: right;\n",
              "    }\n",
              "</style>\n",
              "<table border=\"1\" class=\"dataframe\">\n",
              "  <thead>\n",
              "    <tr style=\"text-align: right;\">\n",
              "      <th></th>\n",
              "      <th>n</th>\n",
              "      <th>e</th>\n",
              "      <th>w</th>\n",
              "      <th>s</th>\n",
              "    </tr>\n",
              "  </thead>\n",
              "  <tbody>\n",
              "    <tr>\n",
              "      <th>0</th>\n",
              "      <td>-7.713107</td>\n",
              "      <td>-6.877991</td>\n",
              "      <td>-7.585046</td>\n",
              "      <td>-7.549125</td>\n",
              "    </tr>\n",
              "    <tr>\n",
              "      <th>1</th>\n",
              "      <td>-6.709045</td>\n",
              "      <td>-4.864865</td>\n",
              "      <td>-7.609274</td>\n",
              "      <td>-6.798018</td>\n",
              "    </tr>\n",
              "    <tr>\n",
              "      <th>2</th>\n",
              "      <td>0.000000</td>\n",
              "      <td>0.000000</td>\n",
              "      <td>0.000000</td>\n",
              "      <td>0.000000</td>\n",
              "    </tr>\n",
              "    <tr>\n",
              "      <th>3</th>\n",
              "      <td>0.000000</td>\n",
              "      <td>0.000000</td>\n",
              "      <td>0.000000</td>\n",
              "      <td>0.000000</td>\n",
              "    </tr>\n",
              "    <tr>\n",
              "      <th>4</th>\n",
              "      <td>-7.441244</td>\n",
              "      <td>-6.757594</td>\n",
              "      <td>-7.575996</td>\n",
              "      <td>-7.031806</td>\n",
              "    </tr>\n",
              "    <tr>\n",
              "      <th>5</th>\n",
              "      <td>-7.095360</td>\n",
              "      <td>-5.881773</td>\n",
              "      <td>-7.446561</td>\n",
              "      <td>-4.800000</td>\n",
              "    </tr>\n",
              "    <tr>\n",
              "      <th>6</th>\n",
              "      <td>-4.444444</td>\n",
              "      <td>-4.375000</td>\n",
              "      <td>-5.666895</td>\n",
              "      <td>-5.904151</td>\n",
              "    </tr>\n",
              "    <tr>\n",
              "      <th>7</th>\n",
              "      <td>0.000000</td>\n",
              "      <td>0.000000</td>\n",
              "      <td>0.000000</td>\n",
              "      <td>0.000000</td>\n",
              "    </tr>\n",
              "    <tr>\n",
              "      <th>8</th>\n",
              "      <td>-6.924155</td>\n",
              "      <td>-4.642857</td>\n",
              "      <td>-7.164995</td>\n",
              "      <td>-6.967467</td>\n",
              "    </tr>\n",
              "    <tr>\n",
              "      <th>9</th>\n",
              "      <td>0.000000</td>\n",
              "      <td>0.000000</td>\n",
              "      <td>0.000000</td>\n",
              "      <td>0.000000</td>\n",
              "    </tr>\n",
              "    <tr>\n",
              "      <th>10</th>\n",
              "      <td>-5.289713</td>\n",
              "      <td>-4.451250</td>\n",
              "      <td>0.000000</td>\n",
              "      <td>-2.975000</td>\n",
              "    </tr>\n",
              "    <tr>\n",
              "      <th>11</th>\n",
              "      <td>-2.500000</td>\n",
              "      <td>-2.750000</td>\n",
              "      <td>-2.975000</td>\n",
              "      <td>-2.500000</td>\n",
              "    </tr>\n",
              "    <tr>\n",
              "      <th>12</th>\n",
              "      <td>-6.391779</td>\n",
              "      <td>-6.056215</td>\n",
              "      <td>-6.797099</td>\n",
              "      <td>-6.386792</td>\n",
              "    </tr>\n",
              "    <tr>\n",
              "      <th>13</th>\n",
              "      <td>-3.750000</td>\n",
              "      <td>-3.671398</td>\n",
              "      <td>-6.129145</td>\n",
              "      <td>-3.750000</td>\n",
              "    </tr>\n",
              "    <tr>\n",
              "      <th>14</th>\n",
              "      <td>0.000000</td>\n",
              "      <td>0.000000</td>\n",
              "      <td>-4.182517</td>\n",
              "      <td>0.000000</td>\n",
              "    </tr>\n",
              "    <tr>\n",
              "      <th>15</th>\n",
              "      <td>0.000000</td>\n",
              "      <td>0.000000</td>\n",
              "      <td>0.000000</td>\n",
              "      <td>0.000000</td>\n",
              "    </tr>\n",
              "    <tr>\n",
              "      <th>16</th>\n",
              "      <td>-6.139137</td>\n",
              "      <td>-4.000000</td>\n",
              "      <td>-4.490000</td>\n",
              "      <td>-5.294753</td>\n",
              "    </tr>\n",
              "    <tr>\n",
              "      <th>17</th>\n",
              "      <td>0.000000</td>\n",
              "      <td>0.000000</td>\n",
              "      <td>0.000000</td>\n",
              "      <td>0.000000</td>\n",
              "    </tr>\n",
              "    <tr>\n",
              "      <th>18</th>\n",
              "      <td>0.000000</td>\n",
              "      <td>0.000000</td>\n",
              "      <td>0.000000</td>\n",
              "      <td>0.000000</td>\n",
              "    </tr>\n",
              "    <tr>\n",
              "      <th>19</th>\n",
              "      <td>0.000000</td>\n",
              "      <td>0.000000</td>\n",
              "      <td>0.000000</td>\n",
              "      <td>0.000000</td>\n",
              "    </tr>\n",
              "  </tbody>\n",
              "</table>\n",
              "</div>"
            ],
            "text/plain": [
              "           n         e         w         s\n",
              "0  -7.713107 -6.877991 -7.585046 -7.549125\n",
              "1  -6.709045 -4.864865 -7.609274 -6.798018\n",
              "2   0.000000  0.000000  0.000000  0.000000\n",
              "3   0.000000  0.000000  0.000000  0.000000\n",
              "4  -7.441244 -6.757594 -7.575996 -7.031806\n",
              "5  -7.095360 -5.881773 -7.446561 -4.800000\n",
              "6  -4.444444 -4.375000 -5.666895 -5.904151\n",
              "7   0.000000  0.000000  0.000000  0.000000\n",
              "8  -6.924155 -4.642857 -7.164995 -6.967467\n",
              "9   0.000000  0.000000  0.000000  0.000000\n",
              "10 -5.289713 -4.451250  0.000000 -2.975000\n",
              "11 -2.500000 -2.750000 -2.975000 -2.500000\n",
              "12 -6.391779 -6.056215 -6.797099 -6.386792\n",
              "13 -3.750000 -3.671398 -6.129145 -3.750000\n",
              "14  0.000000  0.000000 -4.182517  0.000000\n",
              "15  0.000000  0.000000  0.000000  0.000000\n",
              "16 -6.139137 -4.000000 -4.490000 -5.294753\n",
              "17  0.000000  0.000000  0.000000  0.000000\n",
              "18  0.000000  0.000000  0.000000  0.000000\n",
              "19  0.000000  0.000000  0.000000  0.000000"
            ]
          },
          "metadata": {
            "tags": []
          },
          "execution_count": 14
        }
      ]
    },
    {
      "cell_type": "code",
      "metadata": {
        "id": "dtFqZ61zsoUb",
        "colab_type": "code",
        "colab": {}
      },
      "source": [
        "### Policies!!"
      ],
      "execution_count": 15,
      "outputs": []
    },
    {
      "cell_type": "code",
      "metadata": {
        "id": "JVIs2nQTj2cD",
        "colab_type": "code",
        "colab": {}
      },
      "source": [
        "def collect_greedy_episode_from_returns_tbl(table, max_ep_len=20):\n",
        "  state = foolsball.reset()\n",
        "  done = False\n",
        "  episode = []\n",
        "\n",
        "  for _ in range(max_ep_len):\n",
        "    if done:\n",
        "      break\n",
        "    \n",
        "    greedy_action_index = table.loc[state].argmax()\n",
        "    greedy_action = table.columns[greedy_action_index]\n",
        "    next_state, reward, done = foolsball.step(greedy_action)\n",
        "    episode.append([state, greedy_action, reward])\n",
        "    state = next_state\n",
        "  \n",
        "  return episode"
      ],
      "execution_count": 47,
      "outputs": []
    },
    {
      "cell_type": "code",
      "metadata": {
        "id": "NOxDZGq9yvky",
        "colab_type": "code",
        "colab": {
          "base_uri": "https://localhost:8080/",
          "height": 34
        },
        "outputId": "862fcab6-021c-45bc-d82d-e304c1c38a94"
      },
      "source": [
        "collect_greedy_episode_from_returns_tbl(estimated_returns)"
      ],
      "execution_count": 48,
      "outputs": [
        {
          "output_type": "execute_result",
          "data": {
            "text/plain": [
              "[[0, 'e', -1], [1, 'e', -5]]"
            ]
          },
          "metadata": {
            "tags": []
          },
          "execution_count": 48
        }
      ]
    },
    {
      "cell_type": "code",
      "metadata": {
        "id": "411GuzIjy0Ai",
        "colab_type": "code",
        "colab": {}
      },
      "source": [
        "def collect_epsilon_greedy_episode_from_returns_tbl(table, max_ep_len=20, epsilon=0.1):\n",
        "  \n",
        "  state = foolsball.reset()\n",
        "  done = False\n",
        "  episode = []\n",
        "\n",
        "  for _ in range(max_ep_len):\n",
        "    if done:\n",
        "      break\n",
        "    \n",
        "    actions = table.columns\n",
        "    action_probs = np.asarray([epsilon/len(actions)]*len(actions),dtype=np.float)\n",
        "    \n",
        "    greedy_action_index = table.loc[state].argmax()\n",
        "    action_probs[greedy_action_index] += 1-epsilon\n",
        "    \n",
        "    epsilon_greedy_action = np.random.choice(table.columns,p=action_probs)\n",
        "\n",
        "    next_state, reward, done = foolsball.step(epsilon_greedy_action)\n",
        "    episode.append([state, epsilon_greedy_action, reward])\n",
        "    state = next_state\n",
        "\n",
        "  return episode"
      ],
      "execution_count": 51,
      "outputs": []
    },
    {
      "cell_type": "code",
      "metadata": {
        "id": "xoOvdylQnmfF",
        "colab_type": "code",
        "colab": {
          "base_uri": "https://localhost:8080/",
          "height": 168
        },
        "outputId": "9335e33c-9b7f-40cf-ac38-3f4c089b069e"
      },
      "source": [
        "collect_epsilon_greedy_episode_from_returns_tbl(estimated_returns, epsilon=1)"
      ],
      "execution_count": 53,
      "outputs": [
        {
          "output_type": "execute_result",
          "data": {
            "text/plain": [
              "[[0, 'n', -1],\n",
              " [0, 'w', -1],\n",
              " [0, 'n', -1],\n",
              " [0, 'n', -1],\n",
              " [0, 'e', -1],\n",
              " [1, 'w', -1],\n",
              " [0, 'n', -1],\n",
              " [0, 'e', -1],\n",
              " [1, 'e', -5]]"
            ]
          },
          "metadata": {
            "tags": []
          },
          "execution_count": 53
        }
      ]
    },
    {
      "cell_type": "markdown",
      "metadata": {
        "id": "EdNNAuZd1m6m",
        "colab_type": "text"
      },
      "source": [
        "**Q:** What's the problem with this approach?\n",
        "\n",
        "**A:** We are improving our estimate of the returns but we are not using the estimates when genrating new samples. "
      ]
    },
    {
      "cell_type": "code",
      "metadata": {
        "id": "VFcvuR15HoY_",
        "colab_type": "code",
        "colab": {}
      },
      "source": [
        "ESTIMATED_RETURNS_TBL = pd.DataFrame.from_dict({s:{a:0 for a in foolsball.actions} for s in range(foolsball.n_states)}, orient='index')\n",
        "VISITS_COUNTS_TBL = pd.DataFrame.from_dict({s:{a:0 for a in foolsball.actions} for s in range(foolsball.n_states)}, orient='index')\n",
        "\n",
        "n_episodes = 1000\n",
        "\n",
        "for i in range(n_episodes):\n",
        "  estimated_returns = ESTIMATED_RETURNS_TBL.div(VISITS_COUNTS_TBL+1)\n",
        "  \n",
        "  episode_i = collect_greedy_episode_from_returns_tbl(estimated_returns)\n",
        "  #print(episode_i)\n",
        "  states, actions, discounted_returns = discounted_return_from_episode(episode_i, gamma=HYPER_PARAMS['gamma'])\n",
        "\n",
        "  for s,a,ret in zip(states, actions, discounted_returns):\n",
        "    ESTIMATED_RETURNS_TBL.loc[s,a] += ret\n",
        "    VISITS_COUNTS_TBL.loc[s,a] += 1"
      ],
      "execution_count": 57,
      "outputs": []
    },
    {
      "cell_type": "code",
      "metadata": {
        "id": "zV1xJUcdHvcy",
        "colab_type": "code",
        "colab": {
          "base_uri": "https://localhost:8080/",
          "height": 639
        },
        "outputId": "30887668-9920-4807-8467-cf49e85f56d3"
      },
      "source": [
        "estimated_returns = ESTIMATED_RETURNS_TBL.div(VISITS_COUNTS_TBL+1) ## Averaging returns. Avoid dividing by zeros.\n",
        "estimated_returns"
      ],
      "execution_count": 58,
      "outputs": [
        {
          "output_type": "execute_result",
          "data": {
            "text/html": [
              "<div>\n",
              "<style scoped>\n",
              "    .dataframe tbody tr th:only-of-type {\n",
              "        vertical-align: middle;\n",
              "    }\n",
              "\n",
              "    .dataframe tbody tr th {\n",
              "        vertical-align: top;\n",
              "    }\n",
              "\n",
              "    .dataframe thead th {\n",
              "        text-align: right;\n",
              "    }\n",
              "</style>\n",
              "<table border=\"1\" class=\"dataframe\">\n",
              "  <thead>\n",
              "    <tr style=\"text-align: right;\">\n",
              "      <th></th>\n",
              "      <th>n</th>\n",
              "      <th>e</th>\n",
              "      <th>w</th>\n",
              "      <th>s</th>\n",
              "    </tr>\n",
              "  </thead>\n",
              "  <tbody>\n",
              "    <tr>\n",
              "      <th>0</th>\n",
              "      <td>-5.947962</td>\n",
              "      <td>-5.506178</td>\n",
              "      <td>-5.947962</td>\n",
              "      <td>-5.944638</td>\n",
              "    </tr>\n",
              "    <tr>\n",
              "      <th>1</th>\n",
              "      <td>-5.607883</td>\n",
              "      <td>-4.994949</td>\n",
              "      <td>-5.308225</td>\n",
              "      <td>-5.062848</td>\n",
              "    </tr>\n",
              "    <tr>\n",
              "      <th>2</th>\n",
              "      <td>0.000000</td>\n",
              "      <td>0.000000</td>\n",
              "      <td>0.000000</td>\n",
              "      <td>0.000000</td>\n",
              "    </tr>\n",
              "    <tr>\n",
              "      <th>3</th>\n",
              "      <td>0.000000</td>\n",
              "      <td>0.000000</td>\n",
              "      <td>0.000000</td>\n",
              "      <td>0.000000</td>\n",
              "    </tr>\n",
              "    <tr>\n",
              "      <th>4</th>\n",
              "      <td>-5.308225</td>\n",
              "      <td>-4.324574</td>\n",
              "      <td>0.000000</td>\n",
              "      <td>0.000000</td>\n",
              "    </tr>\n",
              "    <tr>\n",
              "      <th>5</th>\n",
              "      <td>-5.376719</td>\n",
              "      <td>-2.750000</td>\n",
              "      <td>0.000000</td>\n",
              "      <td>0.000000</td>\n",
              "    </tr>\n",
              "    <tr>\n",
              "      <th>6</th>\n",
              "      <td>-2.500000</td>\n",
              "      <td>0.000000</td>\n",
              "      <td>0.000000</td>\n",
              "      <td>0.000000</td>\n",
              "    </tr>\n",
              "    <tr>\n",
              "      <th>7</th>\n",
              "      <td>0.000000</td>\n",
              "      <td>0.000000</td>\n",
              "      <td>0.000000</td>\n",
              "      <td>0.000000</td>\n",
              "    </tr>\n",
              "    <tr>\n",
              "      <th>8</th>\n",
              "      <td>0.000000</td>\n",
              "      <td>0.000000</td>\n",
              "      <td>0.000000</td>\n",
              "      <td>0.000000</td>\n",
              "    </tr>\n",
              "    <tr>\n",
              "      <th>9</th>\n",
              "      <td>0.000000</td>\n",
              "      <td>0.000000</td>\n",
              "      <td>0.000000</td>\n",
              "      <td>0.000000</td>\n",
              "    </tr>\n",
              "    <tr>\n",
              "      <th>10</th>\n",
              "      <td>0.000000</td>\n",
              "      <td>0.000000</td>\n",
              "      <td>0.000000</td>\n",
              "      <td>0.000000</td>\n",
              "    </tr>\n",
              "    <tr>\n",
              "      <th>11</th>\n",
              "      <td>0.000000</td>\n",
              "      <td>0.000000</td>\n",
              "      <td>0.000000</td>\n",
              "      <td>0.000000</td>\n",
              "    </tr>\n",
              "    <tr>\n",
              "      <th>12</th>\n",
              "      <td>0.000000</td>\n",
              "      <td>0.000000</td>\n",
              "      <td>0.000000</td>\n",
              "      <td>0.000000</td>\n",
              "    </tr>\n",
              "    <tr>\n",
              "      <th>13</th>\n",
              "      <td>0.000000</td>\n",
              "      <td>0.000000</td>\n",
              "      <td>0.000000</td>\n",
              "      <td>0.000000</td>\n",
              "    </tr>\n",
              "    <tr>\n",
              "      <th>14</th>\n",
              "      <td>0.000000</td>\n",
              "      <td>0.000000</td>\n",
              "      <td>0.000000</td>\n",
              "      <td>0.000000</td>\n",
              "    </tr>\n",
              "    <tr>\n",
              "      <th>15</th>\n",
              "      <td>0.000000</td>\n",
              "      <td>0.000000</td>\n",
              "      <td>0.000000</td>\n",
              "      <td>0.000000</td>\n",
              "    </tr>\n",
              "    <tr>\n",
              "      <th>16</th>\n",
              "      <td>0.000000</td>\n",
              "      <td>0.000000</td>\n",
              "      <td>0.000000</td>\n",
              "      <td>0.000000</td>\n",
              "    </tr>\n",
              "    <tr>\n",
              "      <th>17</th>\n",
              "      <td>0.000000</td>\n",
              "      <td>0.000000</td>\n",
              "      <td>0.000000</td>\n",
              "      <td>0.000000</td>\n",
              "    </tr>\n",
              "    <tr>\n",
              "      <th>18</th>\n",
              "      <td>0.000000</td>\n",
              "      <td>0.000000</td>\n",
              "      <td>0.000000</td>\n",
              "      <td>0.000000</td>\n",
              "    </tr>\n",
              "    <tr>\n",
              "      <th>19</th>\n",
              "      <td>0.000000</td>\n",
              "      <td>0.000000</td>\n",
              "      <td>0.000000</td>\n",
              "      <td>0.000000</td>\n",
              "    </tr>\n",
              "  </tbody>\n",
              "</table>\n",
              "</div>"
            ],
            "text/plain": [
              "           n         e         w         s\n",
              "0  -5.947962 -5.506178 -5.947962 -5.944638\n",
              "1  -5.607883 -4.994949 -5.308225 -5.062848\n",
              "2   0.000000  0.000000  0.000000  0.000000\n",
              "3   0.000000  0.000000  0.000000  0.000000\n",
              "4  -5.308225 -4.324574  0.000000  0.000000\n",
              "5  -5.376719 -2.750000  0.000000  0.000000\n",
              "6  -2.500000  0.000000  0.000000  0.000000\n",
              "7   0.000000  0.000000  0.000000  0.000000\n",
              "8   0.000000  0.000000  0.000000  0.000000\n",
              "9   0.000000  0.000000  0.000000  0.000000\n",
              "10  0.000000  0.000000  0.000000  0.000000\n",
              "11  0.000000  0.000000  0.000000  0.000000\n",
              "12  0.000000  0.000000  0.000000  0.000000\n",
              "13  0.000000  0.000000  0.000000  0.000000\n",
              "14  0.000000  0.000000  0.000000  0.000000\n",
              "15  0.000000  0.000000  0.000000  0.000000\n",
              "16  0.000000  0.000000  0.000000  0.000000\n",
              "17  0.000000  0.000000  0.000000  0.000000\n",
              "18  0.000000  0.000000  0.000000  0.000000\n",
              "19  0.000000  0.000000  0.000000  0.000000"
            ]
          },
          "metadata": {
            "tags": []
          },
          "execution_count": 58
        }
      ]
    },
    {
      "cell_type": "code",
      "metadata": {
        "id": "jAgqB48jpZ-l",
        "colab_type": "code",
        "colab": {}
      },
      "source": [
        "def greedy_policy_from_returns_tbl(table):\n",
        "  policy = {s:None for s in table.index }\n",
        "\n",
        "  for state in table.index:\n",
        "    if state not in terminal_states:\n",
        "      greedy_action_index = table.loc[state].argmax()\n",
        "      greedy_action = table.columns[greedy_action_index]\n",
        "      policy[state] = greedy_action\n",
        "\n",
        "  return policy"
      ],
      "execution_count": 59,
      "outputs": []
    },
    {
      "cell_type": "code",
      "metadata": {
        "id": "5XGAhe4SH0hw",
        "colab_type": "code",
        "colab": {
          "base_uri": "https://localhost:8080/",
          "height": 353
        },
        "outputId": "95ca73da-0f7f-49e8-cd03-986f28069405"
      },
      "source": [
        "policy1 = greedy_policy_from_returns_tbl(estimated_returns)\n",
        "policy1"
      ],
      "execution_count": 60,
      "outputs": [
        {
          "output_type": "execute_result",
          "data": {
            "text/plain": [
              "{0: 'e',\n",
              " 1: 'e',\n",
              " 2: None,\n",
              " 3: 'n',\n",
              " 4: 'w',\n",
              " 5: 'w',\n",
              " 6: 'e',\n",
              " 7: None,\n",
              " 8: 'n',\n",
              " 9: None,\n",
              " 10: 'n',\n",
              " 11: 'n',\n",
              " 12: 'n',\n",
              " 13: 'n',\n",
              " 14: 'n',\n",
              " 15: None,\n",
              " 16: 'n',\n",
              " 17: None,\n",
              " 18: 'n',\n",
              " 19: None}"
            ]
          },
          "metadata": {
            "tags": []
          },
          "execution_count": 60
        }
      ]
    },
    {
      "cell_type": "code",
      "metadata": {
        "id": "XfSXtqrhpgFk",
        "colab_type": "code",
        "colab": {}
      },
      "source": [
        "def pretty_print_policy(policy):\n",
        "  direction_repr = {'n':' 🡑 ', 'e':' 🡒 ', 'w':' 🡐 ', 's':' 🡓 ', None:' ⬤ '}\n",
        "\n",
        "  for row in range(foolsball.n_rows):\n",
        "    for col in range(foolsball.n_cols):\n",
        "      state = row * foolsball.n_cols + col\n",
        "      print(direction_repr[policy[state]],end='')\n",
        "    print()"
      ],
      "execution_count": 61,
      "outputs": []
    },
    {
      "cell_type": "code",
      "metadata": {
        "id": "BoldIPzhH5We",
        "colab_type": "code",
        "colab": {
          "base_uri": "https://localhost:8080/",
          "height": 101
        },
        "outputId": "e95f58c0-1313-4eb8-ebe4-7169b808da6d"
      },
      "source": [
        "pretty_print_policy(policy1)"
      ],
      "execution_count": 62,
      "outputs": [
        {
          "output_type": "stream",
          "text": [
            " 🡒  🡒  ⬤  🡑 \n",
            " 🡐  🡐  🡒  ⬤ \n",
            " 🡑  ⬤  🡑  🡑 \n",
            " 🡑  🡑  🡑  ⬤ \n",
            " 🡑  ⬤  🡑  ⬤ \n"
          ],
          "name": "stdout"
        }
      ]
    },
    {
      "cell_type": "code",
      "metadata": {
        "id": "RDMy2xAcBDZE",
        "colab_type": "code",
        "colab": {}
      },
      "source": [
        "ESTIMATED_RETURNS_TBL = pd.DataFrame.from_dict({s:{a:0 for a in foolsball.actions} for s in range(foolsball.n_states)}, orient='index')\n",
        "VISITS_COUNTS_TBL = pd.DataFrame.from_dict({s:{a:0 for a in foolsball.actions} for s in range(foolsball.n_states)}, orient='index')\n",
        "\n",
        "n_episodes = 1000\n",
        "\n",
        "for i in range(n_episodes):\n",
        "  estimated_returns = ESTIMATED_RETURNS_TBL.div(VISITS_COUNTS_TBL+1)\n",
        "  \n",
        "  episode_i = collect_epsilon_greedy_episode_from_returns_tbl(estimated_returns)\n",
        "  #print(episode_i)\n",
        "  states, actions, discounted_returns = discounted_return_from_episode(episode_i, gamma=HYPER_PARAMS['gamma'])\n",
        "\n",
        "  for s,a,ret in zip(states, actions, discounted_returns):\n",
        "    ESTIMATED_RETURNS_TBL.loc[s,a] += ret\n",
        "    VISITS_COUNTS_TBL.loc[s,a] += 1"
      ],
      "execution_count": 63,
      "outputs": []
    },
    {
      "cell_type": "code",
      "metadata": {
        "id": "xJM0wX3CEzad",
        "colab_type": "code",
        "colab": {
          "base_uri": "https://localhost:8080/",
          "height": 639
        },
        "outputId": "02832571-416e-4dca-a335-791b4fbdc538"
      },
      "source": [
        "estimated_returns = ESTIMATED_RETURNS_TBL.div(VISITS_COUNTS_TBL+1) ## Averaging returns. Avoid dividing by zeros.\n",
        "estimated_returns"
      ],
      "execution_count": 64,
      "outputs": [
        {
          "output_type": "execute_result",
          "data": {
            "text/html": [
              "<div>\n",
              "<style scoped>\n",
              "    .dataframe tbody tr th:only-of-type {\n",
              "        vertical-align: middle;\n",
              "    }\n",
              "\n",
              "    .dataframe tbody tr th {\n",
              "        vertical-align: top;\n",
              "    }\n",
              "\n",
              "    .dataframe thead th {\n",
              "        text-align: right;\n",
              "    }\n",
              "</style>\n",
              "<table border=\"1\" class=\"dataframe\">\n",
              "  <thead>\n",
              "    <tr style=\"text-align: right;\">\n",
              "      <th></th>\n",
              "      <th>n</th>\n",
              "      <th>e</th>\n",
              "      <th>w</th>\n",
              "      <th>s</th>\n",
              "    </tr>\n",
              "  </thead>\n",
              "  <tbody>\n",
              "    <tr>\n",
              "      <th>0</th>\n",
              "      <td>-5.959143</td>\n",
              "      <td>-5.552949</td>\n",
              "      <td>-6.430621</td>\n",
              "      <td>-6.196572</td>\n",
              "    </tr>\n",
              "    <tr>\n",
              "      <th>1</th>\n",
              "      <td>-5.783275</td>\n",
              "      <td>-4.994664</td>\n",
              "      <td>-5.919128</td>\n",
              "      <td>-5.579851</td>\n",
              "    </tr>\n",
              "    <tr>\n",
              "      <th>2</th>\n",
              "      <td>0.000000</td>\n",
              "      <td>0.000000</td>\n",
              "      <td>0.000000</td>\n",
              "      <td>0.000000</td>\n",
              "    </tr>\n",
              "    <tr>\n",
              "      <th>3</th>\n",
              "      <td>0.000000</td>\n",
              "      <td>0.000000</td>\n",
              "      <td>0.000000</td>\n",
              "      <td>0.000000</td>\n",
              "    </tr>\n",
              "    <tr>\n",
              "      <th>4</th>\n",
              "      <td>-5.784905</td>\n",
              "      <td>-5.540187</td>\n",
              "      <td>-5.607883</td>\n",
              "      <td>-6.646684</td>\n",
              "    </tr>\n",
              "    <tr>\n",
              "      <th>5</th>\n",
              "      <td>-4.981463</td>\n",
              "      <td>-5.149724</td>\n",
              "      <td>-5.906002</td>\n",
              "      <td>-4.903846</td>\n",
              "    </tr>\n",
              "    <tr>\n",
              "      <th>6</th>\n",
              "      <td>-3.750000</td>\n",
              "      <td>-3.333333</td>\n",
              "      <td>-3.816667</td>\n",
              "      <td>-4.467517</td>\n",
              "    </tr>\n",
              "    <tr>\n",
              "      <th>7</th>\n",
              "      <td>0.000000</td>\n",
              "      <td>0.000000</td>\n",
              "      <td>0.000000</td>\n",
              "      <td>0.000000</td>\n",
              "    </tr>\n",
              "    <tr>\n",
              "      <th>8</th>\n",
              "      <td>-5.954598</td>\n",
              "      <td>-2.500000</td>\n",
              "      <td>-5.142379</td>\n",
              "      <td>-5.029793</td>\n",
              "    </tr>\n",
              "    <tr>\n",
              "      <th>9</th>\n",
              "      <td>0.000000</td>\n",
              "      <td>0.000000</td>\n",
              "      <td>0.000000</td>\n",
              "      <td>0.000000</td>\n",
              "    </tr>\n",
              "    <tr>\n",
              "      <th>10</th>\n",
              "      <td>-4.223167</td>\n",
              "      <td>0.000000</td>\n",
              "      <td>0.000000</td>\n",
              "      <td>0.000000</td>\n",
              "    </tr>\n",
              "    <tr>\n",
              "      <th>11</th>\n",
              "      <td>0.000000</td>\n",
              "      <td>0.000000</td>\n",
              "      <td>0.000000</td>\n",
              "      <td>0.000000</td>\n",
              "    </tr>\n",
              "    <tr>\n",
              "      <th>12</th>\n",
              "      <td>-4.601005</td>\n",
              "      <td>0.000000</td>\n",
              "      <td>0.000000</td>\n",
              "      <td>0.000000</td>\n",
              "    </tr>\n",
              "    <tr>\n",
              "      <th>13</th>\n",
              "      <td>0.000000</td>\n",
              "      <td>0.000000</td>\n",
              "      <td>0.000000</td>\n",
              "      <td>0.000000</td>\n",
              "    </tr>\n",
              "    <tr>\n",
              "      <th>14</th>\n",
              "      <td>0.000000</td>\n",
              "      <td>0.000000</td>\n",
              "      <td>0.000000</td>\n",
              "      <td>0.000000</td>\n",
              "    </tr>\n",
              "    <tr>\n",
              "      <th>15</th>\n",
              "      <td>0.000000</td>\n",
              "      <td>0.000000</td>\n",
              "      <td>0.000000</td>\n",
              "      <td>0.000000</td>\n",
              "    </tr>\n",
              "    <tr>\n",
              "      <th>16</th>\n",
              "      <td>0.000000</td>\n",
              "      <td>0.000000</td>\n",
              "      <td>0.000000</td>\n",
              "      <td>0.000000</td>\n",
              "    </tr>\n",
              "    <tr>\n",
              "      <th>17</th>\n",
              "      <td>0.000000</td>\n",
              "      <td>0.000000</td>\n",
              "      <td>0.000000</td>\n",
              "      <td>0.000000</td>\n",
              "    </tr>\n",
              "    <tr>\n",
              "      <th>18</th>\n",
              "      <td>0.000000</td>\n",
              "      <td>0.000000</td>\n",
              "      <td>0.000000</td>\n",
              "      <td>0.000000</td>\n",
              "    </tr>\n",
              "    <tr>\n",
              "      <th>19</th>\n",
              "      <td>0.000000</td>\n",
              "      <td>0.000000</td>\n",
              "      <td>0.000000</td>\n",
              "      <td>0.000000</td>\n",
              "    </tr>\n",
              "  </tbody>\n",
              "</table>\n",
              "</div>"
            ],
            "text/plain": [
              "           n         e         w         s\n",
              "0  -5.959143 -5.552949 -6.430621 -6.196572\n",
              "1  -5.783275 -4.994664 -5.919128 -5.579851\n",
              "2   0.000000  0.000000  0.000000  0.000000\n",
              "3   0.000000  0.000000  0.000000  0.000000\n",
              "4  -5.784905 -5.540187 -5.607883 -6.646684\n",
              "5  -4.981463 -5.149724 -5.906002 -4.903846\n",
              "6  -3.750000 -3.333333 -3.816667 -4.467517\n",
              "7   0.000000  0.000000  0.000000  0.000000\n",
              "8  -5.954598 -2.500000 -5.142379 -5.029793\n",
              "9   0.000000  0.000000  0.000000  0.000000\n",
              "10 -4.223167  0.000000  0.000000  0.000000\n",
              "11  0.000000  0.000000  0.000000  0.000000\n",
              "12 -4.601005  0.000000  0.000000  0.000000\n",
              "13  0.000000  0.000000  0.000000  0.000000\n",
              "14  0.000000  0.000000  0.000000  0.000000\n",
              "15  0.000000  0.000000  0.000000  0.000000\n",
              "16  0.000000  0.000000  0.000000  0.000000\n",
              "17  0.000000  0.000000  0.000000  0.000000\n",
              "18  0.000000  0.000000  0.000000  0.000000\n",
              "19  0.000000  0.000000  0.000000  0.000000"
            ]
          },
          "metadata": {
            "tags": []
          },
          "execution_count": 64
        }
      ]
    },
    {
      "cell_type": "code",
      "metadata": {
        "id": "iHLtgKCyFHsy",
        "colab_type": "code",
        "colab": {
          "base_uri": "https://localhost:8080/",
          "height": 353
        },
        "outputId": "8d0d2690-8f26-4ced-c49b-80706147ad64"
      },
      "source": [
        "policy2 = greedy_policy_from_returns_tbl(estimated_returns)\n",
        "policy2"
      ],
      "execution_count": 65,
      "outputs": [
        {
          "output_type": "execute_result",
          "data": {
            "text/plain": [
              "{0: 'e',\n",
              " 1: 'e',\n",
              " 2: None,\n",
              " 3: 'n',\n",
              " 4: 'e',\n",
              " 5: 's',\n",
              " 6: 'e',\n",
              " 7: None,\n",
              " 8: 'e',\n",
              " 9: None,\n",
              " 10: 'e',\n",
              " 11: 'n',\n",
              " 12: 'e',\n",
              " 13: 'n',\n",
              " 14: 'n',\n",
              " 15: None,\n",
              " 16: 'n',\n",
              " 17: None,\n",
              " 18: 'n',\n",
              " 19: None}"
            ]
          },
          "metadata": {
            "tags": []
          },
          "execution_count": 65
        }
      ]
    },
    {
      "cell_type": "code",
      "metadata": {
        "id": "orYp9J0cHXB9",
        "colab_type": "code",
        "colab": {
          "base_uri": "https://localhost:8080/",
          "height": 101
        },
        "outputId": "0551dbc4-aec2-4e36-ba07-f81ecf0b600e"
      },
      "source": [
        "pretty_print_policy(policy2)"
      ],
      "execution_count": 67,
      "outputs": [
        {
          "output_type": "stream",
          "text": [
            " 🡒  🡒  ⬤  🡑 \n",
            " 🡒  🡓  🡒  ⬤ \n",
            " 🡒  ⬤  🡒  🡑 \n",
            " 🡒  🡑  🡑  ⬤ \n",
            " 🡑  ⬤  🡑  ⬤ \n"
          ],
          "name": "stdout"
        }
      ]
    },
    {
      "cell_type": "markdown",
      "metadata": {
        "id": "6kJ3g6kfHaBN",
        "colab_type": "text"
      },
      "source": [
        "### Epsilon-greedy policy\n",
        "**Guiding Principle:** Greedy policies are bad in the beginning. Random policies in the beginning followed by greedy policies later on crush it!"
      ]
    },
    {
      "cell_type": "code",
      "metadata": {
        "id": "k7j3NwXiK7EY",
        "colab_type": "code",
        "colab": {}
      },
      "source": [
        "ESTIMATED_RETURNS_TBL = pd.DataFrame.from_dict({s:{a:0 for a in foolsball.actions} for s in range(foolsball.n_states)}, orient='index')\n",
        "VISITS_COUNTS_TBL = pd.DataFrame.from_dict({s:{a:0 for a in foolsball.actions} for s in range(foolsball.n_states)}, orient='index')\n",
        "\n",
        "n_episodes = 10000\n",
        "epsilon = 1\n",
        "min_epsilon = 0.1\n",
        "epsilon_decay = 0.999\n",
        "\n",
        "for i in range(n_episodes):\n",
        "  estimated_returns = ESTIMATED_RETURNS_TBL.div(VISITS_COUNTS_TBL+1)\n",
        "  \n",
        "  epsilon = max(epsilon,min_epsilon)\n",
        "  episode_i = collect_epsilon_greedy_episode_from_returns_tbl(estimated_returns,epsilon=epsilon)\n",
        "  epsilon *= epsilon_decay\n",
        "  #print(episode_i)\n",
        "  states, actions, discounted_returns = discounted_return_from_episode(episode_i, gamma=HYPER_PARAMS['gamma'])\n",
        "\n",
        "  for s,a,ret in zip(states, actions, discounted_returns):\n",
        "    ESTIMATED_RETURNS_TBL.loc[s,a] += ret\n",
        "    VISITS_COUNTS_TBL.loc[s,a] += 1"
      ],
      "execution_count": 75,
      "outputs": []
    },
    {
      "cell_type": "code",
      "metadata": {
        "id": "HFezSR8KNmDO",
        "colab_type": "code",
        "colab": {
          "base_uri": "https://localhost:8080/",
          "height": 490
        },
        "outputId": "e5b9ba7a-97ff-4229-cea8-f0b8605495ac"
      },
      "source": [
        "estimated_returns = ESTIMATED_RETURNS_TBL.div(VISITS_COUNTS_TBL+1) ## Averaging returns. Avoid dividing by zeros.\n",
        "print(estimated_returns)\n",
        "\n",
        "policy3 = greedy_policy_from_returns_tbl(estimated_returns)\n",
        "print(policy3)\n",
        "\n",
        "pretty_print_policy(policy3)"
      ],
      "execution_count": 77,
      "outputs": [
        {
          "output_type": "stream",
          "text": [
            "           n         e         w         s\n",
            "0  -6.492911 -5.599735 -6.428435 -6.387747\n",
            "1  -5.733523 -4.999453 -6.378239 -5.787694\n",
            "2   0.000000  0.000000  0.000000  0.000000\n",
            "3   0.000000  0.000000  0.000000  0.000000\n",
            "4  -6.743044 -5.771600 -6.342598 -6.087389\n",
            "5  -5.819247 -5.692805 -6.483707 -4.992492\n",
            "6  -4.878049 -4.878049 -6.068982 -5.027156\n",
            "7   0.000000  0.000000  0.000000  0.000000\n",
            "8  -6.697339 -4.936709 -6.126095 -5.994883\n",
            "9   0.000000  0.000000  0.000000  0.000000\n",
            "10 -4.125000 -4.338750 -4.375000 -2.033333\n",
            "11 -2.500000  0.000000 -2.975000 -2.500000\n",
            "12 -5.779147 -4.162651 -5.513722 -5.256315\n",
            "13 -3.333333 -1.560114 -5.221322 -3.333333\n",
            "14 -1.521667 -3.750000 -3.523775  1.274167\n",
            "15  0.000000  0.000000  0.000000  0.000000\n",
            "16 -3.659102 -4.285714 -5.564654 -5.268529\n",
            "17  0.000000  0.000000  0.000000  0.000000\n",
            "18 -2.975000  4.000000  0.000000  0.000000\n",
            "19  0.000000  0.000000  0.000000  0.000000\n",
            "{0: 'e', 1: 'e', 2: None, 3: 'n', 4: 'e', 5: 's', 6: 'n', 7: None, 8: 'e', 9: None, 10: 's', 11: 'e', 12: 'e', 13: 'e', 14: 's', 15: None, 16: 'n', 17: None, 18: 'e', 19: None}\n",
            " 🡒  🡒  ⬤  🡑 \n",
            " 🡒  🡓  🡑  ⬤ \n",
            " 🡒  ⬤  🡓  🡒 \n",
            " 🡒  🡒  🡓  ⬤ \n",
            " 🡑  ⬤  🡒  ⬤ \n"
          ],
          "name": "stdout"
        }
      ]
    },
    {
      "cell_type": "markdown",
      "metadata": {
        "id": "0eIjxpr4sZEu",
        "colab_type": "text"
      },
      "source": [
        "## Constant alpha"
      ]
    },
    {
      "cell_type": "code",
      "metadata": {
        "id": "joZ5JyEUrb6J",
        "colab_type": "code",
        "colab": {}
      },
      "source": [
        "ESTIMATED_RETURNS_TBL = pd.DataFrame.from_dict({s:{a:0 for a in foolsball.actions} for s in range(foolsball.n_states)}, orient='index')\n",
        "\n",
        "n_episodes = 10000\n",
        "epsilon = 1\n",
        "min_epsilon = 0.1\n",
        "epsilon_decay = 0.999\n",
        "\n",
        "alpha = 0.01\n",
        "\n",
        "for i in range(n_episodes):\n",
        "  estimated_returns = ESTIMATED_RETURNS_TBL\n",
        "  \n",
        "  epsilon = max(epsilon,min_epsilon)\n",
        "  episode_i = collect_epsilon_greedy_episode_from_returns_tbl(estimated_returns,epsilon=epsilon)\n",
        "  epsilon *= epsilon_decay\n",
        "  states, actions, discounted_returns = discounted_return_from_episode(episode_i, gamma=HYPER_PARAMS['gamma'])\n",
        "\n",
        "  for s,a,ret in zip(states, actions, discounted_returns):\n",
        "    ESTIMATED_RETURNS_TBL.loc[s,a] += alpha*(ret - ESTIMATED_RETURNS_TBL.loc[s,a])"
      ],
      "execution_count": 101,
      "outputs": []
    },
    {
      "cell_type": "code",
      "metadata": {
        "id": "YEvhUgzPsmPN",
        "colab_type": "code",
        "colab": {
          "base_uri": "https://localhost:8080/",
          "height": 490
        },
        "outputId": "92643535-e68c-46fd-c729-f66b3a725edb"
      },
      "source": [
        "estimated_returns = ESTIMATED_RETURNS_TBL\n",
        "print(estimated_returns)\n",
        "\n",
        "policy4 = greedy_policy_from_returns_tbl(estimated_returns)\n",
        "print(policy4)\n",
        "\n",
        "pretty_print_policy(policy4)"
      ],
      "execution_count": 102,
      "outputs": [
        {
          "output_type": "stream",
          "text": [
            "           n         e         w         s\n",
            "0   0.040631  0.735600 -0.090526  1.672714\n",
            "1  -2.250583 -4.610678  1.037374 -1.445883\n",
            "2   0.000000  0.000000  0.000000  0.000000\n",
            "3   0.000000  0.000000  0.000000  0.000000\n",
            "4   1.198270  1.131041  0.362278  1.897730\n",
            "5  -1.202657 -0.425663  1.306281 -4.362933\n",
            "6  -1.482762 -1.517934 -0.898921  0.695319\n",
            "7   0.000000  0.000000  0.000000  0.000000\n",
            "8   1.166667 -4.834308  0.320852  2.390517\n",
            "9   0.000000  0.000000  0.000000  0.000000\n",
            "10 -0.009490 -0.337393 -0.699708  3.141848\n",
            "11 -0.197020 -0.229428  0.072094 -0.292599\n",
            "12  1.334711  2.713935  0.483939  1.224357\n",
            "13 -4.085217  3.211781  1.813648 -4.103422\n",
            "14  2.384981 -3.988500  1.988102  4.009823\n",
            "15  0.000000  0.000000  0.000000  0.000000\n",
            "16  1.744479 -0.991847 -0.814698 -0.611153\n",
            "17  0.000000  0.000000  0.000000  0.000000\n",
            "18  2.668377  5.000000 -4.075977  2.314988\n",
            "19  0.000000  0.000000  0.000000  0.000000\n",
            "{0: 's', 1: 'w', 2: None, 3: 'n', 4: 's', 5: 'w', 6: 's', 7: None, 8: 's', 9: None, 10: 's', 11: 'w', 12: 'e', 13: 'e', 14: 's', 15: None, 16: 'n', 17: None, 18: 'e', 19: None}\n",
            " 🡓  🡐  ⬤  🡑 \n",
            " 🡓  🡐  🡓  ⬤ \n",
            " 🡓  ⬤  🡓  🡐 \n",
            " 🡒  🡒  🡓  ⬤ \n",
            " 🡑  ⬤  🡒  ⬤ \n"
          ],
          "name": "stdout"
        }
      ]
    },
    {
      "cell_type": "code",
      "metadata": {
        "id": "CUUTiukqs9Qs",
        "colab_type": "code",
        "colab": {}
      },
      "source": [
        ""
      ],
      "execution_count": null,
      "outputs": []
    }
  ]
}